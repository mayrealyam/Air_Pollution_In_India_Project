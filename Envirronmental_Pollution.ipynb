{
 "cells": [
  {
   "cell_type": "markdown",
   "metadata": {
    "id": "4PZ_bYXziGkE"
   },
   "source": [
    "# Downloading the Kaggle Dataset into our environment\n",
    "Data file used for exploration: city_day.csv"
   ]
  },
  {
   "cell_type": "code",
   "execution_count": 1,
   "metadata": {
    "colab": {
     "base_uri": "https://localhost:8080/"
    },
    "id": "TcO6WzQZeF6o",
    "outputId": "12f228ab-8d18-4762-c739-f9575fd1621a"
   },
   "outputs": [
    {
     "name": "stderr",
     "output_type": "stream",
     "text": [
      "A subdirectory or file dataset already exists.\n"
     ]
    }
   ],
   "source": [
    "! mkdir dataset"
   ]
  },
  {
   "cell_type": "code",
   "execution_count": 2,
   "metadata": {
    "id": "aLLGhS5resjc"
   },
   "outputs": [],
   "source": [
    "from zipfile import ZipFile\n",
    "import os"
   ]
  },
  {
   "cell_type": "markdown",
   "metadata": {
    "id": "w3MmmhldaZnB"
   },
   "source": [
    "# New section"
   ]
  },
  {
   "cell_type": "code",
   "execution_count": 3,
   "metadata": {
    "id": "jC7ZP7e_fT-m"
   },
   "outputs": [],
   "source": [
    "# Extracting zip file downloaded from KAggle \n",
    " \n",
    "file_path = os.path.join('city_day.csv.zip')\n",
    "with ZipFile(file_path) as csv_file:\n",
    "  csv_file.extractall(os.path.join('dataset'))"
   ]
  },
  {
   "cell_type": "code",
   "execution_count": 4,
   "metadata": {
    "id": "2jpDX_uAgxUl"
   },
   "outputs": [],
   "source": [
    "# Importing libraries\n",
    " \n",
    "import numpy as np\n",
    "import pandas as pd\n",
    "import seaborn as sns\n",
    "import matplotlib.pyplot as plt\n",
    "from datetime import datetime"
   ]
  },
  {
   "cell_type": "code",
   "execution_count": 5,
   "metadata": {
    "colab": {
     "base_uri": "https://localhost:8080/",
     "height": 359
    },
    "id": "f3LGMGMngZi7",
    "outputId": "163ced87-f5fb-4406-ab4f-72617be63539"
   },
   "outputs": [
    {
     "data": {
      "text/html": [
       "<div>\n",
       "<style scoped>\n",
       "    .dataframe tbody tr th:only-of-type {\n",
       "        vertical-align: middle;\n",
       "    }\n",
       "\n",
       "    .dataframe tbody tr th {\n",
       "        vertical-align: top;\n",
       "    }\n",
       "\n",
       "    .dataframe thead th {\n",
       "        text-align: right;\n",
       "    }\n",
       "</style>\n",
       "<table border=\"1\" class=\"dataframe\">\n",
       "  <thead>\n",
       "    <tr style=\"text-align: right;\">\n",
       "      <th></th>\n",
       "      <th>City</th>\n",
       "      <th>Date</th>\n",
       "      <th>PM2.5</th>\n",
       "      <th>PM10</th>\n",
       "      <th>NO</th>\n",
       "      <th>NO2</th>\n",
       "      <th>NOx</th>\n",
       "      <th>NH3</th>\n",
       "      <th>CO</th>\n",
       "      <th>SO2</th>\n",
       "      <th>O3</th>\n",
       "      <th>Benzene</th>\n",
       "      <th>Toluene</th>\n",
       "      <th>Xylene</th>\n",
       "      <th>AQI</th>\n",
       "      <th>AQI_Bucket</th>\n",
       "    </tr>\n",
       "  </thead>\n",
       "  <tbody>\n",
       "    <tr>\n",
       "      <th>0</th>\n",
       "      <td>Ahmedabad</td>\n",
       "      <td>2015-01-01</td>\n",
       "      <td>NaN</td>\n",
       "      <td>NaN</td>\n",
       "      <td>0.92</td>\n",
       "      <td>18.22</td>\n",
       "      <td>17.15</td>\n",
       "      <td>NaN</td>\n",
       "      <td>0.92</td>\n",
       "      <td>27.64</td>\n",
       "      <td>133.36</td>\n",
       "      <td>0.00</td>\n",
       "      <td>0.02</td>\n",
       "      <td>0.00</td>\n",
       "      <td>NaN</td>\n",
       "      <td>NaN</td>\n",
       "    </tr>\n",
       "    <tr>\n",
       "      <th>1</th>\n",
       "      <td>Ahmedabad</td>\n",
       "      <td>2015-01-02</td>\n",
       "      <td>NaN</td>\n",
       "      <td>NaN</td>\n",
       "      <td>0.97</td>\n",
       "      <td>15.69</td>\n",
       "      <td>16.46</td>\n",
       "      <td>NaN</td>\n",
       "      <td>0.97</td>\n",
       "      <td>24.55</td>\n",
       "      <td>34.06</td>\n",
       "      <td>3.68</td>\n",
       "      <td>5.50</td>\n",
       "      <td>3.77</td>\n",
       "      <td>NaN</td>\n",
       "      <td>NaN</td>\n",
       "    </tr>\n",
       "    <tr>\n",
       "      <th>2</th>\n",
       "      <td>Ahmedabad</td>\n",
       "      <td>2015-01-03</td>\n",
       "      <td>NaN</td>\n",
       "      <td>NaN</td>\n",
       "      <td>17.40</td>\n",
       "      <td>19.30</td>\n",
       "      <td>29.70</td>\n",
       "      <td>NaN</td>\n",
       "      <td>17.40</td>\n",
       "      <td>29.07</td>\n",
       "      <td>30.70</td>\n",
       "      <td>6.80</td>\n",
       "      <td>16.40</td>\n",
       "      <td>2.25</td>\n",
       "      <td>NaN</td>\n",
       "      <td>NaN</td>\n",
       "    </tr>\n",
       "    <tr>\n",
       "      <th>3</th>\n",
       "      <td>Ahmedabad</td>\n",
       "      <td>2015-01-04</td>\n",
       "      <td>NaN</td>\n",
       "      <td>NaN</td>\n",
       "      <td>1.70</td>\n",
       "      <td>18.48</td>\n",
       "      <td>17.97</td>\n",
       "      <td>NaN</td>\n",
       "      <td>1.70</td>\n",
       "      <td>18.59</td>\n",
       "      <td>36.08</td>\n",
       "      <td>4.43</td>\n",
       "      <td>10.14</td>\n",
       "      <td>1.00</td>\n",
       "      <td>NaN</td>\n",
       "      <td>NaN</td>\n",
       "    </tr>\n",
       "    <tr>\n",
       "      <th>4</th>\n",
       "      <td>Ahmedabad</td>\n",
       "      <td>2015-01-05</td>\n",
       "      <td>NaN</td>\n",
       "      <td>NaN</td>\n",
       "      <td>22.10</td>\n",
       "      <td>21.42</td>\n",
       "      <td>37.76</td>\n",
       "      <td>NaN</td>\n",
       "      <td>22.10</td>\n",
       "      <td>39.33</td>\n",
       "      <td>39.31</td>\n",
       "      <td>7.01</td>\n",
       "      <td>18.89</td>\n",
       "      <td>2.78</td>\n",
       "      <td>NaN</td>\n",
       "      <td>NaN</td>\n",
       "    </tr>\n",
       "    <tr>\n",
       "      <th>5</th>\n",
       "      <td>Ahmedabad</td>\n",
       "      <td>2015-01-06</td>\n",
       "      <td>NaN</td>\n",
       "      <td>NaN</td>\n",
       "      <td>45.41</td>\n",
       "      <td>38.48</td>\n",
       "      <td>81.50</td>\n",
       "      <td>NaN</td>\n",
       "      <td>45.41</td>\n",
       "      <td>45.76</td>\n",
       "      <td>46.51</td>\n",
       "      <td>5.42</td>\n",
       "      <td>10.83</td>\n",
       "      <td>1.93</td>\n",
       "      <td>NaN</td>\n",
       "      <td>NaN</td>\n",
       "    </tr>\n",
       "    <tr>\n",
       "      <th>6</th>\n",
       "      <td>Ahmedabad</td>\n",
       "      <td>2015-01-07</td>\n",
       "      <td>NaN</td>\n",
       "      <td>NaN</td>\n",
       "      <td>112.16</td>\n",
       "      <td>40.62</td>\n",
       "      <td>130.77</td>\n",
       "      <td>NaN</td>\n",
       "      <td>112.16</td>\n",
       "      <td>32.28</td>\n",
       "      <td>33.47</td>\n",
       "      <td>0.00</td>\n",
       "      <td>0.00</td>\n",
       "      <td>0.00</td>\n",
       "      <td>NaN</td>\n",
       "      <td>NaN</td>\n",
       "    </tr>\n",
       "    <tr>\n",
       "      <th>7</th>\n",
       "      <td>Ahmedabad</td>\n",
       "      <td>2015-01-08</td>\n",
       "      <td>NaN</td>\n",
       "      <td>NaN</td>\n",
       "      <td>80.87</td>\n",
       "      <td>36.74</td>\n",
       "      <td>96.75</td>\n",
       "      <td>NaN</td>\n",
       "      <td>80.87</td>\n",
       "      <td>38.54</td>\n",
       "      <td>31.89</td>\n",
       "      <td>0.00</td>\n",
       "      <td>0.00</td>\n",
       "      <td>0.00</td>\n",
       "      <td>NaN</td>\n",
       "      <td>NaN</td>\n",
       "    </tr>\n",
       "    <tr>\n",
       "      <th>8</th>\n",
       "      <td>Ahmedabad</td>\n",
       "      <td>2015-01-09</td>\n",
       "      <td>NaN</td>\n",
       "      <td>NaN</td>\n",
       "      <td>29.16</td>\n",
       "      <td>31.00</td>\n",
       "      <td>48.00</td>\n",
       "      <td>NaN</td>\n",
       "      <td>29.16</td>\n",
       "      <td>58.68</td>\n",
       "      <td>25.75</td>\n",
       "      <td>0.00</td>\n",
       "      <td>0.00</td>\n",
       "      <td>0.00</td>\n",
       "      <td>NaN</td>\n",
       "      <td>NaN</td>\n",
       "    </tr>\n",
       "    <tr>\n",
       "      <th>9</th>\n",
       "      <td>Ahmedabad</td>\n",
       "      <td>2015-01-10</td>\n",
       "      <td>NaN</td>\n",
       "      <td>NaN</td>\n",
       "      <td>NaN</td>\n",
       "      <td>7.04</td>\n",
       "      <td>0.00</td>\n",
       "      <td>NaN</td>\n",
       "      <td>NaN</td>\n",
       "      <td>8.29</td>\n",
       "      <td>4.55</td>\n",
       "      <td>0.00</td>\n",
       "      <td>0.00</td>\n",
       "      <td>0.00</td>\n",
       "      <td>NaN</td>\n",
       "      <td>NaN</td>\n",
       "    </tr>\n",
       "  </tbody>\n",
       "</table>\n",
       "</div>"
      ],
      "text/plain": [
       "        City        Date  PM2.5  PM10      NO    NO2     NOx  NH3      CO  \\\n",
       "0  Ahmedabad  2015-01-01    NaN   NaN    0.92  18.22   17.15  NaN    0.92   \n",
       "1  Ahmedabad  2015-01-02    NaN   NaN    0.97  15.69   16.46  NaN    0.97   \n",
       "2  Ahmedabad  2015-01-03    NaN   NaN   17.40  19.30   29.70  NaN   17.40   \n",
       "3  Ahmedabad  2015-01-04    NaN   NaN    1.70  18.48   17.97  NaN    1.70   \n",
       "4  Ahmedabad  2015-01-05    NaN   NaN   22.10  21.42   37.76  NaN   22.10   \n",
       "5  Ahmedabad  2015-01-06    NaN   NaN   45.41  38.48   81.50  NaN   45.41   \n",
       "6  Ahmedabad  2015-01-07    NaN   NaN  112.16  40.62  130.77  NaN  112.16   \n",
       "7  Ahmedabad  2015-01-08    NaN   NaN   80.87  36.74   96.75  NaN   80.87   \n",
       "8  Ahmedabad  2015-01-09    NaN   NaN   29.16  31.00   48.00  NaN   29.16   \n",
       "9  Ahmedabad  2015-01-10    NaN   NaN     NaN   7.04    0.00  NaN     NaN   \n",
       "\n",
       "     SO2      O3  Benzene  Toluene  Xylene  AQI AQI_Bucket  \n",
       "0  27.64  133.36     0.00     0.02    0.00  NaN        NaN  \n",
       "1  24.55   34.06     3.68     5.50    3.77  NaN        NaN  \n",
       "2  29.07   30.70     6.80    16.40    2.25  NaN        NaN  \n",
       "3  18.59   36.08     4.43    10.14    1.00  NaN        NaN  \n",
       "4  39.33   39.31     7.01    18.89    2.78  NaN        NaN  \n",
       "5  45.76   46.51     5.42    10.83    1.93  NaN        NaN  \n",
       "6  32.28   33.47     0.00     0.00    0.00  NaN        NaN  \n",
       "7  38.54   31.89     0.00     0.00    0.00  NaN        NaN  \n",
       "8  58.68   25.75     0.00     0.00    0.00  NaN        NaN  \n",
       "9   8.29    4.55     0.00     0.00    0.00  NaN        NaN  "
      ]
     },
     "execution_count": 5,
     "metadata": {},
     "output_type": "execute_result"
    }
   ],
   "source": [
    "# Loading Dataset into pandas Dataframe\n",
    " \n",
    "dataset_directory = os.path.join('dataset')\n",
    "csv_path = dataset_directory + '/city_day.csv'\n",
    "data = pd.read_csv(csv_path)\n",
    "data.head(10)"
   ]
  },
  {
   "cell_type": "code",
   "execution_count": 6,
   "metadata": {
    "colab": {
     "base_uri": "https://localhost:8080/",
     "height": 317
    },
    "id": "kOqMjPI4iDGn",
    "outputId": "54e3cfed-682f-44ac-da9e-fbcc8d4e8feb"
   },
   "outputs": [
    {
     "data": {
      "text/html": [
       "<div>\n",
       "<style scoped>\n",
       "    .dataframe tbody tr th:only-of-type {\n",
       "        vertical-align: middle;\n",
       "    }\n",
       "\n",
       "    .dataframe tbody tr th {\n",
       "        vertical-align: top;\n",
       "    }\n",
       "\n",
       "    .dataframe thead th {\n",
       "        text-align: right;\n",
       "    }\n",
       "</style>\n",
       "<table border=\"1\" class=\"dataframe\">\n",
       "  <thead>\n",
       "    <tr style=\"text-align: right;\">\n",
       "      <th></th>\n",
       "      <th>PM2.5</th>\n",
       "      <th>PM10</th>\n",
       "      <th>NO</th>\n",
       "      <th>NO2</th>\n",
       "      <th>NOx</th>\n",
       "      <th>NH3</th>\n",
       "      <th>CO</th>\n",
       "      <th>SO2</th>\n",
       "      <th>O3</th>\n",
       "      <th>Benzene</th>\n",
       "      <th>Toluene</th>\n",
       "      <th>Xylene</th>\n",
       "      <th>AQI</th>\n",
       "    </tr>\n",
       "  </thead>\n",
       "  <tbody>\n",
       "    <tr>\n",
       "      <th>count</th>\n",
       "      <td>24933.000000</td>\n",
       "      <td>18391.000000</td>\n",
       "      <td>25949.000000</td>\n",
       "      <td>25946.000000</td>\n",
       "      <td>25346.000000</td>\n",
       "      <td>19203.000000</td>\n",
       "      <td>27472.000000</td>\n",
       "      <td>25677.000000</td>\n",
       "      <td>25509.000000</td>\n",
       "      <td>23908.000000</td>\n",
       "      <td>21490.000000</td>\n",
       "      <td>11422.000000</td>\n",
       "      <td>24850.000000</td>\n",
       "    </tr>\n",
       "    <tr>\n",
       "      <th>mean</th>\n",
       "      <td>67.450578</td>\n",
       "      <td>118.127103</td>\n",
       "      <td>17.574730</td>\n",
       "      <td>28.560659</td>\n",
       "      <td>32.309123</td>\n",
       "      <td>23.483476</td>\n",
       "      <td>2.248598</td>\n",
       "      <td>14.531977</td>\n",
       "      <td>34.491430</td>\n",
       "      <td>3.280840</td>\n",
       "      <td>8.700972</td>\n",
       "      <td>3.070128</td>\n",
       "      <td>166.463581</td>\n",
       "    </tr>\n",
       "    <tr>\n",
       "      <th>std</th>\n",
       "      <td>64.661449</td>\n",
       "      <td>90.605110</td>\n",
       "      <td>22.785846</td>\n",
       "      <td>24.474746</td>\n",
       "      <td>31.646011</td>\n",
       "      <td>25.684275</td>\n",
       "      <td>6.962884</td>\n",
       "      <td>18.133775</td>\n",
       "      <td>21.694928</td>\n",
       "      <td>15.811136</td>\n",
       "      <td>19.969164</td>\n",
       "      <td>6.323247</td>\n",
       "      <td>140.696585</td>\n",
       "    </tr>\n",
       "    <tr>\n",
       "      <th>min</th>\n",
       "      <td>0.040000</td>\n",
       "      <td>0.010000</td>\n",
       "      <td>0.020000</td>\n",
       "      <td>0.010000</td>\n",
       "      <td>0.000000</td>\n",
       "      <td>0.010000</td>\n",
       "      <td>0.000000</td>\n",
       "      <td>0.010000</td>\n",
       "      <td>0.010000</td>\n",
       "      <td>0.000000</td>\n",
       "      <td>0.000000</td>\n",
       "      <td>0.000000</td>\n",
       "      <td>13.000000</td>\n",
       "    </tr>\n",
       "    <tr>\n",
       "      <th>25%</th>\n",
       "      <td>28.820000</td>\n",
       "      <td>56.255000</td>\n",
       "      <td>5.630000</td>\n",
       "      <td>11.750000</td>\n",
       "      <td>12.820000</td>\n",
       "      <td>8.580000</td>\n",
       "      <td>0.510000</td>\n",
       "      <td>5.670000</td>\n",
       "      <td>18.860000</td>\n",
       "      <td>0.120000</td>\n",
       "      <td>0.600000</td>\n",
       "      <td>0.140000</td>\n",
       "      <td>81.000000</td>\n",
       "    </tr>\n",
       "    <tr>\n",
       "      <th>50%</th>\n",
       "      <td>48.570000</td>\n",
       "      <td>95.680000</td>\n",
       "      <td>9.890000</td>\n",
       "      <td>21.690000</td>\n",
       "      <td>23.520000</td>\n",
       "      <td>15.850000</td>\n",
       "      <td>0.890000</td>\n",
       "      <td>9.160000</td>\n",
       "      <td>30.840000</td>\n",
       "      <td>1.070000</td>\n",
       "      <td>2.970000</td>\n",
       "      <td>0.980000</td>\n",
       "      <td>118.000000</td>\n",
       "    </tr>\n",
       "    <tr>\n",
       "      <th>75%</th>\n",
       "      <td>80.590000</td>\n",
       "      <td>149.745000</td>\n",
       "      <td>19.950000</td>\n",
       "      <td>37.620000</td>\n",
       "      <td>40.127500</td>\n",
       "      <td>30.020000</td>\n",
       "      <td>1.450000</td>\n",
       "      <td>15.220000</td>\n",
       "      <td>45.570000</td>\n",
       "      <td>3.080000</td>\n",
       "      <td>9.150000</td>\n",
       "      <td>3.350000</td>\n",
       "      <td>208.000000</td>\n",
       "    </tr>\n",
       "    <tr>\n",
       "      <th>max</th>\n",
       "      <td>949.990000</td>\n",
       "      <td>1000.000000</td>\n",
       "      <td>390.680000</td>\n",
       "      <td>362.210000</td>\n",
       "      <td>467.630000</td>\n",
       "      <td>352.890000</td>\n",
       "      <td>175.810000</td>\n",
       "      <td>193.860000</td>\n",
       "      <td>257.730000</td>\n",
       "      <td>455.030000</td>\n",
       "      <td>454.850000</td>\n",
       "      <td>170.370000</td>\n",
       "      <td>2049.000000</td>\n",
       "    </tr>\n",
       "  </tbody>\n",
       "</table>\n",
       "</div>"
      ],
      "text/plain": [
       "              PM2.5          PM10            NO           NO2           NOx  \\\n",
       "count  24933.000000  18391.000000  25949.000000  25946.000000  25346.000000   \n",
       "mean      67.450578    118.127103     17.574730     28.560659     32.309123   \n",
       "std       64.661449     90.605110     22.785846     24.474746     31.646011   \n",
       "min        0.040000      0.010000      0.020000      0.010000      0.000000   \n",
       "25%       28.820000     56.255000      5.630000     11.750000     12.820000   \n",
       "50%       48.570000     95.680000      9.890000     21.690000     23.520000   \n",
       "75%       80.590000    149.745000     19.950000     37.620000     40.127500   \n",
       "max      949.990000   1000.000000    390.680000    362.210000    467.630000   \n",
       "\n",
       "                NH3            CO           SO2            O3       Benzene  \\\n",
       "count  19203.000000  27472.000000  25677.000000  25509.000000  23908.000000   \n",
       "mean      23.483476      2.248598     14.531977     34.491430      3.280840   \n",
       "std       25.684275      6.962884     18.133775     21.694928     15.811136   \n",
       "min        0.010000      0.000000      0.010000      0.010000      0.000000   \n",
       "25%        8.580000      0.510000      5.670000     18.860000      0.120000   \n",
       "50%       15.850000      0.890000      9.160000     30.840000      1.070000   \n",
       "75%       30.020000      1.450000     15.220000     45.570000      3.080000   \n",
       "max      352.890000    175.810000    193.860000    257.730000    455.030000   \n",
       "\n",
       "            Toluene        Xylene           AQI  \n",
       "count  21490.000000  11422.000000  24850.000000  \n",
       "mean       8.700972      3.070128    166.463581  \n",
       "std       19.969164      6.323247    140.696585  \n",
       "min        0.000000      0.000000     13.000000  \n",
       "25%        0.600000      0.140000     81.000000  \n",
       "50%        2.970000      0.980000    118.000000  \n",
       "75%        9.150000      3.350000    208.000000  \n",
       "max      454.850000    170.370000   2049.000000  "
      ]
     },
     "execution_count": 6,
     "metadata": {},
     "output_type": "execute_result"
    }
   ],
   "source": [
    "data.describe()"
   ]
  },
  {
   "cell_type": "code",
   "execution_count": 7,
   "metadata": {
    "colab": {
     "base_uri": "https://localhost:8080/"
    },
    "id": "rW1-MjAbiDDT",
    "outputId": "05d085bf-de37-4218-8e3e-22958c0ae426"
   },
   "outputs": [
    {
     "name": "stdout",
     "output_type": "stream",
     "text": [
      "<class 'pandas.core.frame.DataFrame'>\n",
      "RangeIndex: 29531 entries, 0 to 29530\n",
      "Data columns (total 16 columns):\n",
      " #   Column      Non-Null Count  Dtype  \n",
      "---  ------      --------------  -----  \n",
      " 0   City        29531 non-null  object \n",
      " 1   Date        29531 non-null  object \n",
      " 2   PM2.5       24933 non-null  float64\n",
      " 3   PM10        18391 non-null  float64\n",
      " 4   NO          25949 non-null  float64\n",
      " 5   NO2         25946 non-null  float64\n",
      " 6   NOx         25346 non-null  float64\n",
      " 7   NH3         19203 non-null  float64\n",
      " 8   CO          27472 non-null  float64\n",
      " 9   SO2         25677 non-null  float64\n",
      " 10  O3          25509 non-null  float64\n",
      " 11  Benzene     23908 non-null  float64\n",
      " 12  Toluene     21490 non-null  float64\n",
      " 13  Xylene      11422 non-null  float64\n",
      " 14  AQI         24850 non-null  float64\n",
      " 15  AQI_Bucket  24850 non-null  object \n",
      "dtypes: float64(13), object(3)\n",
      "memory usage: 3.6+ MB\n"
     ]
    }
   ],
   "source": [
    "data.info()"
   ]
  },
  {
   "cell_type": "code",
   "execution_count": 8,
   "metadata": {
    "colab": {
     "base_uri": "https://localhost:8080/"
    },
    "id": "ELzxir4295kV",
    "outputId": "8e302cc1-cbaf-4ee1-b378-fdaba12ddf62"
   },
   "outputs": [
    {
     "data": {
      "text/plain": [
       "Mumbai                2009\n",
       "Bengaluru             2009\n",
       "Lucknow               2009\n",
       "Chennai               2009\n",
       "Delhi                 2009\n",
       "Ahmedabad             2009\n",
       "Hyderabad             2006\n",
       "Patna                 1858\n",
       "Gurugram              1679\n",
       "Visakhapatnam         1462\n",
       "Amritsar              1221\n",
       "Jorapokhar            1169\n",
       "Jaipur                1114\n",
       "Thiruvananthapuram    1112\n",
       "Amaravati              951\n",
       "Brajrajnagar           938\n",
       "Talcher                925\n",
       "Kolkata                814\n",
       "Guwahati               502\n",
       "Coimbatore             386\n",
       "Shillong               310\n",
       "Chandigarh             304\n",
       "Bhopal                 289\n",
       "Ernakulam              162\n",
       "Kochi                  162\n",
       "Aizawl                 113\n",
       "Name: City, dtype: int64"
      ]
     },
     "execution_count": 8,
     "metadata": {},
     "output_type": "execute_result"
    }
   ],
   "source": [
    "data['City'].value_counts()"
   ]
  },
  {
   "cell_type": "code",
   "execution_count": 9,
   "metadata": {
    "id": "xlP5aP1EiC_8"
   },
   "outputs": [],
   "source": [
    "#Covert date column to datetime type\n",
    "data[\"Date\"] = pd.to_datetime(data[\"Date\"])"
   ]
  },
  {
   "cell_type": "code",
   "execution_count": 10,
   "metadata": {
    "colab": {
     "base_uri": "https://localhost:8080/"
    },
    "id": "Zj-tokV7w1Y0",
    "outputId": "8e544c1e-f829-414b-feb3-86e58ef0ed28"
   },
   "outputs": [
    {
     "data": {
      "text/plain": [
       "City              0\n",
       "Date              0\n",
       "PM2.5          4598\n",
       "PM10          11140\n",
       "NO             3582\n",
       "NO2            3585\n",
       "NOx            4185\n",
       "NH3           10328\n",
       "CO             2059\n",
       "SO2            3854\n",
       "O3             4022\n",
       "Benzene        5623\n",
       "Toluene        8041\n",
       "Xylene        18109\n",
       "AQI            4681\n",
       "AQI_Bucket     4681\n",
       "dtype: int64"
      ]
     },
     "execution_count": 10,
     "metadata": {},
     "output_type": "execute_result"
    }
   ],
   "source": [
    "data.isnull().sum()"
   ]
  },
  {
   "cell_type": "code",
   "execution_count": 11,
   "metadata": {
    "colab": {
     "base_uri": "https://localhost:8080/"
    },
    "id": "2TT_KfjoiC8v",
    "outputId": "99f54eb4-f709-4147-824a-05ed1aedac95"
   },
   "outputs": [
    {
     "data": {
      "text/plain": [
       "PM2.5       3.369960\n",
       "PM10        2.053189\n",
       "NO          3.883166\n",
       "NO2         2.464560\n",
       "NOx         2.569915\n",
       "NH3         4.083993\n",
       "CO          8.878322\n",
       "SO2         4.083660\n",
       "O3          1.330119\n",
       "Benzene    21.304218\n",
       "Toluene    11.666129\n",
       "Xylene      7.891515\n",
       "AQI         3.396757\n",
       "dtype: float64"
      ]
     },
     "execution_count": 11,
     "metadata": {},
     "output_type": "execute_result"
    }
   ],
   "source": [
    "data.skew(axis=0, skipna =True)"
   ]
  },
  {
   "cell_type": "code",
   "execution_count": 12,
   "metadata": {
    "colab": {
     "base_uri": "https://localhost:8080/",
     "height": 545
    },
    "id": "OtIRIo97iC5Q",
    "outputId": "a3475b4f-d936-4be3-b795-78ae3c66cece"
   },
   "outputs": [
    {
     "data": {
      "text/html": [
       "<div>\n",
       "<style scoped>\n",
       "    .dataframe tbody tr th:only-of-type {\n",
       "        vertical-align: middle;\n",
       "    }\n",
       "\n",
       "    .dataframe tbody tr th {\n",
       "        vertical-align: top;\n",
       "    }\n",
       "\n",
       "    .dataframe thead th {\n",
       "        text-align: right;\n",
       "    }\n",
       "</style>\n",
       "<table border=\"1\" class=\"dataframe\">\n",
       "  <thead>\n",
       "    <tr style=\"text-align: right;\">\n",
       "      <th></th>\n",
       "      <th>Column</th>\n",
       "      <th>Percentage of missing values</th>\n",
       "    </tr>\n",
       "  </thead>\n",
       "  <tbody>\n",
       "    <tr>\n",
       "      <th>13</th>\n",
       "      <td>Xylene</td>\n",
       "      <td>61</td>\n",
       "    </tr>\n",
       "    <tr>\n",
       "      <th>3</th>\n",
       "      <td>PM10</td>\n",
       "      <td>38</td>\n",
       "    </tr>\n",
       "    <tr>\n",
       "      <th>7</th>\n",
       "      <td>NH3</td>\n",
       "      <td>35</td>\n",
       "    </tr>\n",
       "    <tr>\n",
       "      <th>12</th>\n",
       "      <td>Toluene</td>\n",
       "      <td>27</td>\n",
       "    </tr>\n",
       "    <tr>\n",
       "      <th>11</th>\n",
       "      <td>Benzene</td>\n",
       "      <td>19</td>\n",
       "    </tr>\n",
       "    <tr>\n",
       "      <th>2</th>\n",
       "      <td>PM2.5</td>\n",
       "      <td>16</td>\n",
       "    </tr>\n",
       "    <tr>\n",
       "      <th>14</th>\n",
       "      <td>AQI</td>\n",
       "      <td>16</td>\n",
       "    </tr>\n",
       "    <tr>\n",
       "      <th>15</th>\n",
       "      <td>AQI_Bucket</td>\n",
       "      <td>16</td>\n",
       "    </tr>\n",
       "    <tr>\n",
       "      <th>6</th>\n",
       "      <td>NOx</td>\n",
       "      <td>14</td>\n",
       "    </tr>\n",
       "    <tr>\n",
       "      <th>10</th>\n",
       "      <td>O3</td>\n",
       "      <td>14</td>\n",
       "    </tr>\n",
       "    <tr>\n",
       "      <th>9</th>\n",
       "      <td>SO2</td>\n",
       "      <td>13</td>\n",
       "    </tr>\n",
       "    <tr>\n",
       "      <th>4</th>\n",
       "      <td>NO</td>\n",
       "      <td>12</td>\n",
       "    </tr>\n",
       "    <tr>\n",
       "      <th>5</th>\n",
       "      <td>NO2</td>\n",
       "      <td>12</td>\n",
       "    </tr>\n",
       "    <tr>\n",
       "      <th>8</th>\n",
       "      <td>CO</td>\n",
       "      <td>7</td>\n",
       "    </tr>\n",
       "    <tr>\n",
       "      <th>0</th>\n",
       "      <td>City</td>\n",
       "      <td>0</td>\n",
       "    </tr>\n",
       "    <tr>\n",
       "      <th>1</th>\n",
       "      <td>Date</td>\n",
       "      <td>0</td>\n",
       "    </tr>\n",
       "  </tbody>\n",
       "</table>\n",
       "</div>"
      ],
      "text/plain": [
       "        Column Percentage of missing values\n",
       "13      Xylene                           61\n",
       "3         PM10                           38\n",
       "7          NH3                           35\n",
       "12     Toluene                           27\n",
       "11     Benzene                           19\n",
       "2        PM2.5                           16\n",
       "14         AQI                           16\n",
       "15  AQI_Bucket                           16\n",
       "6          NOx                           14\n",
       "10          O3                           14\n",
       "9          SO2                           13\n",
       "4           NO                           12\n",
       "5          NO2                           12\n",
       "8           CO                            7\n",
       "0         City                            0\n",
       "1         Date                            0"
      ]
     },
     "execution_count": 12,
     "metadata": {},
     "output_type": "execute_result"
    }
   ],
   "source": [
    "#Check percentage of null values in each column\n",
    "l1=[]\n",
    "for i in data.columns:\n",
    "    l1.append(round((data[i].isnull().sum()/29531)*100))\n",
    "\n",
    "dt=pd.DataFrame(np.column_stack([data.columns, l1]),columns=['Column', 'Percentage of missing values'])\n",
    "dt.sort_values(by='Percentage of missing values', ascending=False)"
   ]
  },
  {
   "cell_type": "markdown",
   "metadata": {
    "id": "3jN9ElslRv6D"
   },
   "source": [
    "Xylene, Benzene and toluene have high percentage of null values. As Benzene, Toluene and Xylene are petrochemical emissions, a new feature can be created by grouping them.\n"
   ]
  },
  {
   "cell_type": "code",
   "execution_count": 13,
   "metadata": {
    "id": "OsjRY3hPR1-E"
   },
   "outputs": [],
   "source": [
    "data['BTX'] = data[['Benzene','Toluene','Xylene']].sum(axis=1)"
   ]
  },
  {
   "cell_type": "code",
   "execution_count": 14,
   "metadata": {
    "colab": {
     "base_uri": "https://localhost:8080/"
    },
    "id": "j8Dh7Sc7iC1c",
    "outputId": "edb0470e-4fd0-4544-862d-2b0c661e5147"
   },
   "outputs": [
    {
     "data": {
      "text/plain": [
       "0.0"
      ]
     },
     "execution_count": 14,
     "metadata": {},
     "output_type": "execute_result"
    }
   ],
   "source": [
    "data.head()\n",
    "data['BTX'].isnull().sum()/29531"
   ]
  },
  {
   "cell_type": "code",
   "execution_count": 15,
   "metadata": {
    "id": "iyO-ywXWVDgM"
   },
   "outputs": [],
   "source": [
    "data=data.drop(['Benzene','Toluene','Xylene'],axis=1);"
   ]
  },
  {
   "cell_type": "code",
   "execution_count": 16,
   "metadata": {
    "colab": {
     "base_uri": "https://localhost:8080/",
     "height": 204
    },
    "id": "gQV3ZT7SVTZk",
    "outputId": "50c77c80-79ef-4caa-d9f4-61caa5fdd71d"
   },
   "outputs": [
    {
     "data": {
      "text/html": [
       "<div>\n",
       "<style scoped>\n",
       "    .dataframe tbody tr th:only-of-type {\n",
       "        vertical-align: middle;\n",
       "    }\n",
       "\n",
       "    .dataframe tbody tr th {\n",
       "        vertical-align: top;\n",
       "    }\n",
       "\n",
       "    .dataframe thead th {\n",
       "        text-align: right;\n",
       "    }\n",
       "</style>\n",
       "<table border=\"1\" class=\"dataframe\">\n",
       "  <thead>\n",
       "    <tr style=\"text-align: right;\">\n",
       "      <th></th>\n",
       "      <th>City</th>\n",
       "      <th>Date</th>\n",
       "      <th>PM2.5</th>\n",
       "      <th>PM10</th>\n",
       "      <th>NO</th>\n",
       "      <th>NO2</th>\n",
       "      <th>NOx</th>\n",
       "      <th>NH3</th>\n",
       "      <th>CO</th>\n",
       "      <th>SO2</th>\n",
       "      <th>O3</th>\n",
       "      <th>AQI</th>\n",
       "      <th>AQI_Bucket</th>\n",
       "      <th>BTX</th>\n",
       "    </tr>\n",
       "  </thead>\n",
       "  <tbody>\n",
       "    <tr>\n",
       "      <th>0</th>\n",
       "      <td>Ahmedabad</td>\n",
       "      <td>2015-01-01</td>\n",
       "      <td>NaN</td>\n",
       "      <td>NaN</td>\n",
       "      <td>0.92</td>\n",
       "      <td>18.22</td>\n",
       "      <td>17.15</td>\n",
       "      <td>NaN</td>\n",
       "      <td>0.92</td>\n",
       "      <td>27.64</td>\n",
       "      <td>133.36</td>\n",
       "      <td>NaN</td>\n",
       "      <td>NaN</td>\n",
       "      <td>0.02</td>\n",
       "    </tr>\n",
       "    <tr>\n",
       "      <th>1</th>\n",
       "      <td>Ahmedabad</td>\n",
       "      <td>2015-01-02</td>\n",
       "      <td>NaN</td>\n",
       "      <td>NaN</td>\n",
       "      <td>0.97</td>\n",
       "      <td>15.69</td>\n",
       "      <td>16.46</td>\n",
       "      <td>NaN</td>\n",
       "      <td>0.97</td>\n",
       "      <td>24.55</td>\n",
       "      <td>34.06</td>\n",
       "      <td>NaN</td>\n",
       "      <td>NaN</td>\n",
       "      <td>12.95</td>\n",
       "    </tr>\n",
       "    <tr>\n",
       "      <th>2</th>\n",
       "      <td>Ahmedabad</td>\n",
       "      <td>2015-01-03</td>\n",
       "      <td>NaN</td>\n",
       "      <td>NaN</td>\n",
       "      <td>17.40</td>\n",
       "      <td>19.30</td>\n",
       "      <td>29.70</td>\n",
       "      <td>NaN</td>\n",
       "      <td>17.40</td>\n",
       "      <td>29.07</td>\n",
       "      <td>30.70</td>\n",
       "      <td>NaN</td>\n",
       "      <td>NaN</td>\n",
       "      <td>25.45</td>\n",
       "    </tr>\n",
       "    <tr>\n",
       "      <th>3</th>\n",
       "      <td>Ahmedabad</td>\n",
       "      <td>2015-01-04</td>\n",
       "      <td>NaN</td>\n",
       "      <td>NaN</td>\n",
       "      <td>1.70</td>\n",
       "      <td>18.48</td>\n",
       "      <td>17.97</td>\n",
       "      <td>NaN</td>\n",
       "      <td>1.70</td>\n",
       "      <td>18.59</td>\n",
       "      <td>36.08</td>\n",
       "      <td>NaN</td>\n",
       "      <td>NaN</td>\n",
       "      <td>15.57</td>\n",
       "    </tr>\n",
       "    <tr>\n",
       "      <th>4</th>\n",
       "      <td>Ahmedabad</td>\n",
       "      <td>2015-01-05</td>\n",
       "      <td>NaN</td>\n",
       "      <td>NaN</td>\n",
       "      <td>22.10</td>\n",
       "      <td>21.42</td>\n",
       "      <td>37.76</td>\n",
       "      <td>NaN</td>\n",
       "      <td>22.10</td>\n",
       "      <td>39.33</td>\n",
       "      <td>39.31</td>\n",
       "      <td>NaN</td>\n",
       "      <td>NaN</td>\n",
       "      <td>28.68</td>\n",
       "    </tr>\n",
       "  </tbody>\n",
       "</table>\n",
       "</div>"
      ],
      "text/plain": [
       "        City       Date  PM2.5  PM10     NO    NO2    NOx  NH3     CO    SO2  \\\n",
       "0  Ahmedabad 2015-01-01    NaN   NaN   0.92  18.22  17.15  NaN   0.92  27.64   \n",
       "1  Ahmedabad 2015-01-02    NaN   NaN   0.97  15.69  16.46  NaN   0.97  24.55   \n",
       "2  Ahmedabad 2015-01-03    NaN   NaN  17.40  19.30  29.70  NaN  17.40  29.07   \n",
       "3  Ahmedabad 2015-01-04    NaN   NaN   1.70  18.48  17.97  NaN   1.70  18.59   \n",
       "4  Ahmedabad 2015-01-05    NaN   NaN  22.10  21.42  37.76  NaN  22.10  39.33   \n",
       "\n",
       "       O3  AQI AQI_Bucket    BTX  \n",
       "0  133.36  NaN        NaN   0.02  \n",
       "1   34.06  NaN        NaN  12.95  \n",
       "2   30.70  NaN        NaN  25.45  \n",
       "3   36.08  NaN        NaN  15.57  \n",
       "4   39.31  NaN        NaN  28.68  "
      ]
     },
     "execution_count": 16,
     "metadata": {},
     "output_type": "execute_result"
    }
   ],
   "source": [
    "data.head()"
   ]
  },
  {
   "cell_type": "markdown",
   "metadata": {
    "id": "pExVkOndzfx0"
   },
   "source": [
    "Filling of PM2.5, NO, NO2, NOx, CO, SO2, O3 null values using mean of each city"
   ]
  },
  {
   "cell_type": "code",
   "execution_count": 17,
   "metadata": {
    "id": "tlvPKehfiCxy"
   },
   "outputs": [],
   "source": [
    "for i in data.columns[2:11]:\n",
    "    data[i] = data[i].groupby(data[\"City\"]).transform(lambda x: x.fillna(data[i].mean()))"
   ]
  },
  {
   "cell_type": "code",
   "execution_count": 18,
   "metadata": {
    "colab": {
     "base_uri": "https://localhost:8080/"
    },
    "id": "NqjRgHOciCtd",
    "outputId": "ecf72d42-c6f4-4713-df00-f6a1f4bb0829"
   },
   "outputs": [
    {
     "name": "stdout",
     "output_type": "stream",
     "text": [
      "<class 'pandas.core.frame.DataFrame'>\n",
      "RangeIndex: 29531 entries, 0 to 29530\n",
      "Data columns (total 14 columns):\n",
      " #   Column      Non-Null Count  Dtype         \n",
      "---  ------      --------------  -----         \n",
      " 0   City        29531 non-null  object        \n",
      " 1   Date        29531 non-null  datetime64[ns]\n",
      " 2   PM2.5       29531 non-null  float64       \n",
      " 3   PM10        29531 non-null  float64       \n",
      " 4   NO          29531 non-null  float64       \n",
      " 5   NO2         29531 non-null  float64       \n",
      " 6   NOx         29531 non-null  float64       \n",
      " 7   NH3         29531 non-null  float64       \n",
      " 8   CO          29531 non-null  float64       \n",
      " 9   SO2         29531 non-null  float64       \n",
      " 10  O3          29531 non-null  float64       \n",
      " 11  AQI         24850 non-null  float64       \n",
      " 12  AQI_Bucket  24850 non-null  object        \n",
      " 13  BTX         29531 non-null  float64       \n",
      "dtypes: datetime64[ns](1), float64(11), object(2)\n",
      "memory usage: 3.2+ MB\n"
     ]
    }
   ],
   "source": [
    "data.info()"
   ]
  },
  {
   "cell_type": "markdown",
   "metadata": {
    "id": "H2kH23hHzt3f"
   },
   "source": [
    "drop rows that have AQI and AQI_Bucket columns as null values"
   ]
  },
  {
   "cell_type": "code",
   "execution_count": 19,
   "metadata": {
    "id": "b-Q-MTOXiCkz"
   },
   "outputs": [],
   "source": [
    "data.dropna(subset = [\"AQI\", \"AQI_Bucket\"], inplace= True)"
   ]
  },
  {
   "cell_type": "code",
   "execution_count": 20,
   "metadata": {
    "colab": {
     "base_uri": "https://localhost:8080/"
    },
    "id": "r-pHLjuiz7iq",
    "outputId": "2d404772-5d98-4933-cb56-03fb0580310f"
   },
   "outputs": [
    {
     "name": "stdout",
     "output_type": "stream",
     "text": [
      "<class 'pandas.core.frame.DataFrame'>\n",
      "Int64Index: 24850 entries, 28 to 29530\n",
      "Data columns (total 14 columns):\n",
      " #   Column      Non-Null Count  Dtype         \n",
      "---  ------      --------------  -----         \n",
      " 0   City        24850 non-null  object        \n",
      " 1   Date        24850 non-null  datetime64[ns]\n",
      " 2   PM2.5       24850 non-null  float64       \n",
      " 3   PM10        24850 non-null  float64       \n",
      " 4   NO          24850 non-null  float64       \n",
      " 5   NO2         24850 non-null  float64       \n",
      " 6   NOx         24850 non-null  float64       \n",
      " 7   NH3         24850 non-null  float64       \n",
      " 8   CO          24850 non-null  float64       \n",
      " 9   SO2         24850 non-null  float64       \n",
      " 10  O3          24850 non-null  float64       \n",
      " 11  AQI         24850 non-null  float64       \n",
      " 12  AQI_Bucket  24850 non-null  object        \n",
      " 13  BTX         24850 non-null  float64       \n",
      "dtypes: datetime64[ns](1), float64(11), object(2)\n",
      "memory usage: 2.8+ MB\n"
     ]
    }
   ],
   "source": [
    "data.info()"
   ]
  },
  {
   "cell_type": "code",
   "execution_count": 21,
   "metadata": {
    "id": "u2vhpC6rz76L"
   },
   "outputs": [],
   "source": [
    "#Extract year from date column and create as new column\n",
    "data[\"Year\"] = data[\"Date\"].dt.year"
   ]
  },
  {
   "cell_type": "code",
   "execution_count": 22,
   "metadata": {
    "colab": {
     "base_uri": "https://localhost:8080/",
     "height": 204
    },
    "id": "h7urZnYRz8B0",
    "outputId": "678f6889-5691-4c54-d02e-8b965c04423b"
   },
   "outputs": [
    {
     "data": {
      "text/html": [
       "<div>\n",
       "<style scoped>\n",
       "    .dataframe tbody tr th:only-of-type {\n",
       "        vertical-align: middle;\n",
       "    }\n",
       "\n",
       "    .dataframe tbody tr th {\n",
       "        vertical-align: top;\n",
       "    }\n",
       "\n",
       "    .dataframe thead th {\n",
       "        text-align: right;\n",
       "    }\n",
       "</style>\n",
       "<table border=\"1\" class=\"dataframe\">\n",
       "  <thead>\n",
       "    <tr style=\"text-align: right;\">\n",
       "      <th></th>\n",
       "      <th>City</th>\n",
       "      <th>Date</th>\n",
       "      <th>PM2.5</th>\n",
       "      <th>PM10</th>\n",
       "      <th>NO</th>\n",
       "      <th>NO2</th>\n",
       "      <th>NOx</th>\n",
       "      <th>NH3</th>\n",
       "      <th>CO</th>\n",
       "      <th>SO2</th>\n",
       "      <th>O3</th>\n",
       "      <th>AQI</th>\n",
       "      <th>AQI_Bucket</th>\n",
       "      <th>BTX</th>\n",
       "      <th>Year</th>\n",
       "    </tr>\n",
       "  </thead>\n",
       "  <tbody>\n",
       "    <tr>\n",
       "      <th>28</th>\n",
       "      <td>Ahmedabad</td>\n",
       "      <td>2015-01-29</td>\n",
       "      <td>83.13</td>\n",
       "      <td>118.127103</td>\n",
       "      <td>6.93</td>\n",
       "      <td>28.71</td>\n",
       "      <td>33.72</td>\n",
       "      <td>23.483476</td>\n",
       "      <td>6.93</td>\n",
       "      <td>49.52</td>\n",
       "      <td>59.76</td>\n",
       "      <td>209.0</td>\n",
       "      <td>Poor</td>\n",
       "      <td>3.16</td>\n",
       "      <td>2015</td>\n",
       "    </tr>\n",
       "    <tr>\n",
       "      <th>29</th>\n",
       "      <td>Ahmedabad</td>\n",
       "      <td>2015-01-30</td>\n",
       "      <td>79.84</td>\n",
       "      <td>118.127103</td>\n",
       "      <td>13.85</td>\n",
       "      <td>28.68</td>\n",
       "      <td>41.08</td>\n",
       "      <td>23.483476</td>\n",
       "      <td>13.85</td>\n",
       "      <td>48.49</td>\n",
       "      <td>97.07</td>\n",
       "      <td>328.0</td>\n",
       "      <td>Very Poor</td>\n",
       "      <td>4.85</td>\n",
       "      <td>2015</td>\n",
       "    </tr>\n",
       "    <tr>\n",
       "      <th>30</th>\n",
       "      <td>Ahmedabad</td>\n",
       "      <td>2015-01-31</td>\n",
       "      <td>94.52</td>\n",
       "      <td>118.127103</td>\n",
       "      <td>24.39</td>\n",
       "      <td>32.66</td>\n",
       "      <td>52.61</td>\n",
       "      <td>23.483476</td>\n",
       "      <td>24.39</td>\n",
       "      <td>67.39</td>\n",
       "      <td>111.33</td>\n",
       "      <td>514.0</td>\n",
       "      <td>Severe</td>\n",
       "      <td>7.92</td>\n",
       "      <td>2015</td>\n",
       "    </tr>\n",
       "    <tr>\n",
       "      <th>31</th>\n",
       "      <td>Ahmedabad</td>\n",
       "      <td>2015-02-01</td>\n",
       "      <td>135.99</td>\n",
       "      <td>118.127103</td>\n",
       "      <td>43.48</td>\n",
       "      <td>42.08</td>\n",
       "      <td>84.57</td>\n",
       "      <td>23.483476</td>\n",
       "      <td>43.48</td>\n",
       "      <td>75.23</td>\n",
       "      <td>102.70</td>\n",
       "      <td>782.0</td>\n",
       "      <td>Severe</td>\n",
       "      <td>26.31</td>\n",
       "      <td>2015</td>\n",
       "    </tr>\n",
       "    <tr>\n",
       "      <th>32</th>\n",
       "      <td>Ahmedabad</td>\n",
       "      <td>2015-02-02</td>\n",
       "      <td>178.33</td>\n",
       "      <td>118.127103</td>\n",
       "      <td>54.56</td>\n",
       "      <td>35.31</td>\n",
       "      <td>72.80</td>\n",
       "      <td>23.483476</td>\n",
       "      <td>54.56</td>\n",
       "      <td>55.04</td>\n",
       "      <td>107.38</td>\n",
       "      <td>914.0</td>\n",
       "      <td>Severe</td>\n",
       "      <td>36.13</td>\n",
       "      <td>2015</td>\n",
       "    </tr>\n",
       "  </tbody>\n",
       "</table>\n",
       "</div>"
      ],
      "text/plain": [
       "         City       Date   PM2.5        PM10     NO    NO2    NOx        NH3  \\\n",
       "28  Ahmedabad 2015-01-29   83.13  118.127103   6.93  28.71  33.72  23.483476   \n",
       "29  Ahmedabad 2015-01-30   79.84  118.127103  13.85  28.68  41.08  23.483476   \n",
       "30  Ahmedabad 2015-01-31   94.52  118.127103  24.39  32.66  52.61  23.483476   \n",
       "31  Ahmedabad 2015-02-01  135.99  118.127103  43.48  42.08  84.57  23.483476   \n",
       "32  Ahmedabad 2015-02-02  178.33  118.127103  54.56  35.31  72.80  23.483476   \n",
       "\n",
       "       CO    SO2      O3    AQI AQI_Bucket    BTX  Year  \n",
       "28   6.93  49.52   59.76  209.0       Poor   3.16  2015  \n",
       "29  13.85  48.49   97.07  328.0  Very Poor   4.85  2015  \n",
       "30  24.39  67.39  111.33  514.0     Severe   7.92  2015  \n",
       "31  43.48  75.23  102.70  782.0     Severe  26.31  2015  \n",
       "32  54.56  55.04  107.38  914.0     Severe  36.13  2015  "
      ]
     },
     "execution_count": 22,
     "metadata": {},
     "output_type": "execute_result"
    }
   ],
   "source": [
    "data.head()"
   ]
  },
  {
   "cell_type": "markdown",
   "metadata": {
    "id": "orJDdZxW0hBG"
   },
   "source": [
    "Visualizations of data"
   ]
  },
  {
   "cell_type": "code",
   "execution_count": 23,
   "metadata": {
    "colab": {
     "base_uri": "https://localhost:8080/",
     "height": 855
    },
    "id": "7UgbWIpGz8J3",
    "outputId": "d3428ae2-ac1f-4d12-c058-9a3717e216fd"
   },
   "outputs": [
    {
     "data": {
      "text/html": [
       "<div>\n",
       "<style scoped>\n",
       "    .dataframe tbody tr th:only-of-type {\n",
       "        vertical-align: middle;\n",
       "    }\n",
       "\n",
       "    .dataframe tbody tr th {\n",
       "        vertical-align: top;\n",
       "    }\n",
       "\n",
       "    .dataframe thead th {\n",
       "        text-align: right;\n",
       "    }\n",
       "</style>\n",
       "<table border=\"1\" class=\"dataframe\">\n",
       "  <thead>\n",
       "    <tr style=\"text-align: right;\">\n",
       "      <th></th>\n",
       "      <th>City</th>\n",
       "      <th>PM2.5</th>\n",
       "    </tr>\n",
       "  </thead>\n",
       "  <tbody>\n",
       "    <tr>\n",
       "      <th>0</th>\n",
       "      <td>Ahmedabad</td>\n",
       "      <td>90540.931156</td>\n",
       "    </tr>\n",
       "    <tr>\n",
       "      <th>1</th>\n",
       "      <td>Aizawl</td>\n",
       "      <td>1936.190578</td>\n",
       "    </tr>\n",
       "    <tr>\n",
       "      <th>2</th>\n",
       "      <td>Amaravati</td>\n",
       "      <td>32169.382890</td>\n",
       "    </tr>\n",
       "    <tr>\n",
       "      <th>3</th>\n",
       "      <td>Amritsar</td>\n",
       "      <td>63070.047970</td>\n",
       "    </tr>\n",
       "    <tr>\n",
       "      <th>4</th>\n",
       "      <td>Bengaluru</td>\n",
       "      <td>70251.651787</td>\n",
       "    </tr>\n",
       "    <tr>\n",
       "      <th>5</th>\n",
       "      <td>Bhopal</td>\n",
       "      <td>13957.610000</td>\n",
       "    </tr>\n",
       "    <tr>\n",
       "      <th>6</th>\n",
       "      <td>Brajrajnagar</td>\n",
       "      <td>45625.520981</td>\n",
       "    </tr>\n",
       "    <tr>\n",
       "      <th>7</th>\n",
       "      <td>Chandigarh</td>\n",
       "      <td>12665.916935</td>\n",
       "    </tr>\n",
       "    <tr>\n",
       "      <th>8</th>\n",
       "      <td>Chennai</td>\n",
       "      <td>94594.603468</td>\n",
       "    </tr>\n",
       "    <tr>\n",
       "      <th>9</th>\n",
       "      <td>Coimbatore</td>\n",
       "      <td>10165.870578</td>\n",
       "    </tr>\n",
       "    <tr>\n",
       "      <th>10</th>\n",
       "      <td>Delhi</td>\n",
       "      <td>234931.890578</td>\n",
       "    </tr>\n",
       "    <tr>\n",
       "      <th>11</th>\n",
       "      <td>Ernakulam</td>\n",
       "      <td>3849.310578</td>\n",
       "    </tr>\n",
       "    <tr>\n",
       "      <th>12</th>\n",
       "      <td>Gurugram</td>\n",
       "      <td>167739.362890</td>\n",
       "    </tr>\n",
       "    <tr>\n",
       "      <th>13</th>\n",
       "      <td>Guwahati</td>\n",
       "      <td>30442.410578</td>\n",
       "    </tr>\n",
       "    <tr>\n",
       "      <th>14</th>\n",
       "      <td>Hyderabad</td>\n",
       "      <td>88636.412890</td>\n",
       "    </tr>\n",
       "    <tr>\n",
       "      <th>15</th>\n",
       "      <td>Jaipur</td>\n",
       "      <td>59852.931156</td>\n",
       "    </tr>\n",
       "    <tr>\n",
       "      <th>16</th>\n",
       "      <td>Jorapokhar</td>\n",
       "      <td>50899.919849</td>\n",
       "    </tr>\n",
       "    <tr>\n",
       "      <th>17</th>\n",
       "      <td>Kochi</td>\n",
       "      <td>4983.400000</td>\n",
       "    </tr>\n",
       "    <tr>\n",
       "      <th>18</th>\n",
       "      <td>Kolkata</td>\n",
       "      <td>48748.620000</td>\n",
       "    </tr>\n",
       "    <tr>\n",
       "      <th>19</th>\n",
       "      <td>Lucknow</td>\n",
       "      <td>207754.571156</td>\n",
       "    </tr>\n",
       "    <tr>\n",
       "      <th>20</th>\n",
       "      <td>Mumbai</td>\n",
       "      <td>27358.111734</td>\n",
       "    </tr>\n",
       "    <tr>\n",
       "      <th>21</th>\n",
       "      <td>Patna</td>\n",
       "      <td>181859.171734</td>\n",
       "    </tr>\n",
       "    <tr>\n",
       "      <th>22</th>\n",
       "      <td>Shillong</td>\n",
       "      <td>5283.002890</td>\n",
       "    </tr>\n",
       "    <tr>\n",
       "      <th>23</th>\n",
       "      <td>Talcher</td>\n",
       "      <td>43447.819072</td>\n",
       "    </tr>\n",
       "    <tr>\n",
       "      <th>24</th>\n",
       "      <td>Thiruvananthapuram</td>\n",
       "      <td>30095.495779</td>\n",
       "    </tr>\n",
       "    <tr>\n",
       "      <th>25</th>\n",
       "      <td>Visakhapatnam</td>\n",
       "      <td>55916.034624</td>\n",
       "    </tr>\n",
       "  </tbody>\n",
       "</table>\n",
       "</div>"
      ],
      "text/plain": [
       "                  City          PM2.5\n",
       "0            Ahmedabad   90540.931156\n",
       "1               Aizawl    1936.190578\n",
       "2            Amaravati   32169.382890\n",
       "3             Amritsar   63070.047970\n",
       "4            Bengaluru   70251.651787\n",
       "5               Bhopal   13957.610000\n",
       "6         Brajrajnagar   45625.520981\n",
       "7           Chandigarh   12665.916935\n",
       "8              Chennai   94594.603468\n",
       "9           Coimbatore   10165.870578\n",
       "10               Delhi  234931.890578\n",
       "11           Ernakulam    3849.310578\n",
       "12            Gurugram  167739.362890\n",
       "13            Guwahati   30442.410578\n",
       "14           Hyderabad   88636.412890\n",
       "15              Jaipur   59852.931156\n",
       "16          Jorapokhar   50899.919849\n",
       "17               Kochi    4983.400000\n",
       "18             Kolkata   48748.620000\n",
       "19             Lucknow  207754.571156\n",
       "20              Mumbai   27358.111734\n",
       "21               Patna  181859.171734\n",
       "22            Shillong    5283.002890\n",
       "23             Talcher   43447.819072\n",
       "24  Thiruvananthapuram   30095.495779\n",
       "25       Visakhapatnam   55916.034624"
      ]
     },
     "execution_count": 23,
     "metadata": {},
     "output_type": "execute_result"
    }
   ],
   "source": [
    "df2 = data.groupby([\"City\"])[\"PM2.5\"].sum().reset_index()\n",
    "df2"
   ]
  },
  {
   "cell_type": "code",
   "execution_count": 24,
   "metadata": {
    "colab": {
     "base_uri": "https://localhost:8080/",
     "height": 408
    },
    "id": "zukuG5sAz8Qe",
    "outputId": "39ea76da-1121-479b-e0f0-a191ad78d68b"
   },
   "outputs": [
    {
     "data": {
      "image/png": "[encoded data removed]",
      "text/plain": [
       "<Figure size 432x288 with 1 Axes>"
      ]
     },
     "metadata": {
      "needs_background": "light"
     },
     "output_type": "display_data"
    }
   ],
   "source": [
    "#Generate data from city and PM2.5 columns\n",
    "sns.barplot(x=\"City\", y=\"PM2.5\", data= df2)\n",
    "plt.xticks(rotation=90)\n",
    "plt.xlabel(\"City\")\n",
    "plt.title(\"PM2.5 data of city\")\n",
    "plt.savefig(\"PM2.5 plot.pdf\")"
   ]
  },
  {
   "cell_type": "markdown",
   "metadata": {
    "id": "qXNqXDbe1F9b"
   },
   "source": [
    "Plot of AQI and City"
   ]
  },
  {
   "cell_type": "code",
   "execution_count": 25,
   "metadata": {
    "colab": {
     "base_uri": "https://localhost:8080/",
     "height": 855
    },
    "id": "VKx5awhnz8We",
    "outputId": "dd4848fd-f6f1-47ea-8687-f618cbcb2e50"
   },
   "outputs": [
    {
     "data": {
      "text/html": [
       "<div>\n",
       "<style scoped>\n",
       "    .dataframe tbody tr th:only-of-type {\n",
       "        vertical-align: middle;\n",
       "    }\n",
       "\n",
       "    .dataframe tbody tr th {\n",
       "        vertical-align: top;\n",
       "    }\n",
       "\n",
       "    .dataframe thead th {\n",
       "        text-align: right;\n",
       "    }\n",
       "</style>\n",
       "<table border=\"1\" class=\"dataframe\">\n",
       "  <thead>\n",
       "    <tr style=\"text-align: right;\">\n",
       "      <th></th>\n",
       "      <th>City</th>\n",
       "      <th>AQI</th>\n",
       "    </tr>\n",
       "  </thead>\n",
       "  <tbody>\n",
       "    <tr>\n",
       "      <th>0</th>\n",
       "      <td>Ahmedabad</td>\n",
       "      <td>603132.0</td>\n",
       "    </tr>\n",
       "    <tr>\n",
       "      <th>10</th>\n",
       "      <td>Delhi</td>\n",
       "      <td>518716.0</td>\n",
       "    </tr>\n",
       "    <tr>\n",
       "      <th>19</th>\n",
       "      <td>Lucknow</td>\n",
       "      <td>412623.0</td>\n",
       "    </tr>\n",
       "    <tr>\n",
       "      <th>21</th>\n",
       "      <td>Patna</td>\n",
       "      <td>351301.0</td>\n",
       "    </tr>\n",
       "    <tr>\n",
       "      <th>12</th>\n",
       "      <td>Gurugram</td>\n",
       "      <td>327105.0</td>\n",
       "    </tr>\n",
       "    <tr>\n",
       "      <th>8</th>\n",
       "      <td>Chennai</td>\n",
       "      <td>215723.0</td>\n",
       "    </tr>\n",
       "    <tr>\n",
       "      <th>14</th>\n",
       "      <td>Hyderabad</td>\n",
       "      <td>205310.0</td>\n",
       "    </tr>\n",
       "    <tr>\n",
       "      <th>4</th>\n",
       "      <td>Bengaluru</td>\n",
       "      <td>180148.0</td>\n",
       "    </tr>\n",
       "    <tr>\n",
       "      <th>15</th>\n",
       "      <td>Jaipur</td>\n",
       "      <td>146245.0</td>\n",
       "    </tr>\n",
       "    <tr>\n",
       "      <th>25</th>\n",
       "      <td>Visakhapatnam</td>\n",
       "      <td>137323.0</td>\n",
       "    </tr>\n",
       "    <tr>\n",
       "      <th>3</th>\n",
       "      <td>Amritsar</td>\n",
       "      <td>135031.0</td>\n",
       "    </tr>\n",
       "    <tr>\n",
       "      <th>16</th>\n",
       "      <td>Jorapokhar</td>\n",
       "      <td>122783.0</td>\n",
       "    </tr>\n",
       "    <tr>\n",
       "      <th>23</th>\n",
       "      <td>Talcher</td>\n",
       "      <td>120675.0</td>\n",
       "    </tr>\n",
       "    <tr>\n",
       "      <th>6</th>\n",
       "      <td>Brajrajnagar</td>\n",
       "      <td>107150.0</td>\n",
       "    </tr>\n",
       "    <tr>\n",
       "      <th>18</th>\n",
       "      <td>Kolkata</td>\n",
       "      <td>105987.0</td>\n",
       "    </tr>\n",
       "    <tr>\n",
       "      <th>20</th>\n",
       "      <td>Mumbai</td>\n",
       "      <td>81648.0</td>\n",
       "    </tr>\n",
       "    <tr>\n",
       "      <th>2</th>\n",
       "      <td>Amaravati</td>\n",
       "      <td>80147.0</td>\n",
       "    </tr>\n",
       "    <tr>\n",
       "      <th>24</th>\n",
       "      <td>Thiruvananthapuram</td>\n",
       "      <td>79824.0</td>\n",
       "    </tr>\n",
       "    <tr>\n",
       "      <th>13</th>\n",
       "      <td>Guwahati</td>\n",
       "      <td>69355.0</td>\n",
       "    </tr>\n",
       "    <tr>\n",
       "      <th>5</th>\n",
       "      <td>Bhopal</td>\n",
       "      <td>36926.0</td>\n",
       "    </tr>\n",
       "    <tr>\n",
       "      <th>7</th>\n",
       "      <td>Chandigarh</td>\n",
       "      <td>28853.0</td>\n",
       "    </tr>\n",
       "    <tr>\n",
       "      <th>9</th>\n",
       "      <td>Coimbatore</td>\n",
       "      <td>25120.0</td>\n",
       "    </tr>\n",
       "    <tr>\n",
       "      <th>17</th>\n",
       "      <td>Kochi</td>\n",
       "      <td>16477.0</td>\n",
       "    </tr>\n",
       "    <tr>\n",
       "      <th>11</th>\n",
       "      <td>Ernakulam</td>\n",
       "      <td>14131.0</td>\n",
       "    </tr>\n",
       "    <tr>\n",
       "      <th>22</th>\n",
       "      <td>Shillong</td>\n",
       "      <td>11028.0</td>\n",
       "    </tr>\n",
       "    <tr>\n",
       "      <th>1</th>\n",
       "      <td>Aizawl</td>\n",
       "      <td>3859.0</td>\n",
       "    </tr>\n",
       "  </tbody>\n",
       "</table>\n",
       "</div>"
      ],
      "text/plain": [
       "                  City       AQI\n",
       "0            Ahmedabad  603132.0\n",
       "10               Delhi  518716.0\n",
       "19             Lucknow  412623.0\n",
       "21               Patna  351301.0\n",
       "12            Gurugram  327105.0\n",
       "8              Chennai  215723.0\n",
       "14           Hyderabad  205310.0\n",
       "4            Bengaluru  180148.0\n",
       "15              Jaipur  146245.0\n",
       "25       Visakhapatnam  137323.0\n",
       "3             Amritsar  135031.0\n",
       "16          Jorapokhar  122783.0\n",
       "23             Talcher  120675.0\n",
       "6         Brajrajnagar  107150.0\n",
       "18             Kolkata  105987.0\n",
       "20              Mumbai   81648.0\n",
       "2            Amaravati   80147.0\n",
       "24  Thiruvananthapuram   79824.0\n",
       "13            Guwahati   69355.0\n",
       "5               Bhopal   36926.0\n",
       "7           Chandigarh   28853.0\n",
       "9           Coimbatore   25120.0\n",
       "17               Kochi   16477.0\n",
       "11           Ernakulam   14131.0\n",
       "22            Shillong   11028.0\n",
       "1               Aizawl    3859.0"
      ]
     },
     "execution_count": 25,
     "metadata": {},
     "output_type": "execute_result"
    }
   ],
   "source": [
    "d5 = data.groupby(\"City\")[\"AQI\"].sum().reset_index().sort_values(by=\"AQI\", ascending = False)\n",
    "d5"
   ]
  },
  {
   "cell_type": "code",
   "execution_count": 26,
   "metadata": {
    "colab": {
     "base_uri": "https://localhost:8080/",
     "height": 434
    },
    "id": "FOuQ-9yCz8eN",
    "outputId": "76aa2a8f-43ba-4424-cb61-39cb0746b548"
   },
   "outputs": [
    {
     "data": {
      "text/plain": [
       "Text(0.5, 1.0, 'AQI data across 10 cities with highest values of AQI')"
      ]
     },
     "execution_count": 26,
     "metadata": {},
     "output_type": "execute_result"
    },
    {
     "data": {
      "image/png": "[encoded data removed]",
      "text/plain": [
       "<Figure size 576x360 with 1 Axes>"
      ]
     },
     "metadata": {
      "needs_background": "light"
     },
     "output_type": "display_data"
    }
   ],
   "source": [
    "plt.figure(figsize = (8, 5))\n",
    "sns.barplot(x=\"City\", y = \"AQI\", data = d5.head(10))\n",
    "plt.xticks(rotation = 90)\n",
    "plt.xlabel(\"City\")\n",
    "plt.title(\"AQI data across 10 cities with highest values of AQI\")"
   ]
  },
  {
   "cell_type": "code",
   "execution_count": 27,
   "metadata": {
    "colab": {
     "base_uri": "https://localhost:8080/",
     "height": 235
    },
    "id": "hcryEXBZ1vpd",
    "outputId": "09e32416-14d2-4c42-cc2f-82872ad5e769"
   },
   "outputs": [
    {
     "data": {
      "text/html": [
       "<div>\n",
       "<style scoped>\n",
       "    .dataframe tbody tr th:only-of-type {\n",
       "        vertical-align: middle;\n",
       "    }\n",
       "\n",
       "    .dataframe tbody tr th {\n",
       "        vertical-align: top;\n",
       "    }\n",
       "\n",
       "    .dataframe thead th {\n",
       "        text-align: right;\n",
       "    }\n",
       "</style>\n",
       "<table border=\"1\" class=\"dataframe\">\n",
       "  <thead>\n",
       "    <tr style=\"text-align: right;\">\n",
       "      <th></th>\n",
       "      <th>Year</th>\n",
       "      <th>SO2</th>\n",
       "    </tr>\n",
       "  </thead>\n",
       "  <tbody>\n",
       "    <tr>\n",
       "      <th>0</th>\n",
       "      <td>2015</td>\n",
       "      <td>22069.883955</td>\n",
       "    </tr>\n",
       "    <tr>\n",
       "      <th>1</th>\n",
       "      <td>2016</td>\n",
       "      <td>26146.857682</td>\n",
       "    </tr>\n",
       "    <tr>\n",
       "      <th>2</th>\n",
       "      <td>2017</td>\n",
       "      <td>39289.710884</td>\n",
       "    </tr>\n",
       "    <tr>\n",
       "      <th>3</th>\n",
       "      <td>2018</td>\n",
       "      <td>101881.893474</td>\n",
       "    </tr>\n",
       "    <tr>\n",
       "      <th>4</th>\n",
       "      <td>2019</td>\n",
       "      <td>115096.298338</td>\n",
       "    </tr>\n",
       "    <tr>\n",
       "      <th>5</th>\n",
       "      <td>2020</td>\n",
       "      <td>52536.511908</td>\n",
       "    </tr>\n",
       "  </tbody>\n",
       "</table>\n",
       "</div>"
      ],
      "text/plain": [
       "   Year            SO2\n",
       "0  2015   22069.883955\n",
       "1  2016   26146.857682\n",
       "2  2017   39289.710884\n",
       "3  2018  101881.893474\n",
       "4  2019  115096.298338\n",
       "5  2020   52536.511908"
      ]
     },
     "execution_count": 27,
     "metadata": {},
     "output_type": "execute_result"
    }
   ],
   "source": [
    "df3 = data.groupby(\"Year\")[\"SO2\"].sum().reset_index()\n",
    "df3"
   ]
  },
  {
   "cell_type": "markdown",
   "metadata": {
    "id": "CDEIcUEG2lAA"
   },
   "source": []
  },
  {
   "cell_type": "code",
   "execution_count": 28,
   "metadata": {
    "colab": {
     "base_uri": "https://localhost:8080/",
     "height": 390
    },
    "id": "o5PQaP_B1vyW",
    "outputId": "7ab0c6c2-2384-476d-940e-8065699a3aa6"
   },
   "outputs": [
    {
     "data": {
      "text/plain": [
       "Text(0.5, 1.0, 'Total SO2 data in a year for all cities')"
      ]
     },
     "execution_count": 28,
     "metadata": {},
     "output_type": "execute_result"
    },
    {
     "data": {
      "image/png": "[encoded data removed]",
      "text/plain": [
       "<Figure size 648x432 with 1 Axes>"
      ]
     },
     "metadata": {},
     "output_type": "display_data"
    }
   ],
   "source": [
    "plt.figure(figsize=(9, 6))\n",
    "Year = [\"2015\", \"2016\", \"2017\", \"2018\", \"2019\", \"2020\"]\n",
    "explode =[0, 0, 0, 0, 0, 0.1]\n",
    "plt.pie(\"SO2\", data = df3, labels= Year, autopct=\"%.0f%%\", shadow = True, startangle = 270, explode = explode)\n",
    "plt.ylabel(\"Total SO2 in a year\")\n",
    "plt.title(\"Total SO2 data in a year for all cities\")"
   ]
  },
  {
   "cell_type": "markdown",
   "metadata": {
    "id": "kHqq3Rj12iaL"
   },
   "source": [
    "Emission of SO2 was increased from year 2015 to 2019 but reduced in year 2020"
   ]
  },
  {
   "cell_type": "code",
   "execution_count": 29,
   "metadata": {
    "colab": {
     "base_uri": "https://localhost:8080/",
     "height": 235
    },
    "id": "I5IJZi6N1v6d",
    "outputId": "36a47480-7f6f-47a1-beb5-31e8efbb9f43"
   },
   "outputs": [
    {
     "data": {
      "text/html": [
       "<div>\n",
       "<style scoped>\n",
       "    .dataframe tbody tr th:only-of-type {\n",
       "        vertical-align: middle;\n",
       "    }\n",
       "\n",
       "    .dataframe tbody tr th {\n",
       "        vertical-align: top;\n",
       "    }\n",
       "\n",
       "    .dataframe thead th {\n",
       "        text-align: right;\n",
       "    }\n",
       "</style>\n",
       "<table border=\"1\" class=\"dataframe\">\n",
       "  <thead>\n",
       "    <tr style=\"text-align: right;\">\n",
       "      <th></th>\n",
       "      <th>Year</th>\n",
       "      <th>O3</th>\n",
       "    </tr>\n",
       "  </thead>\n",
       "  <tbody>\n",
       "    <tr>\n",
       "      <th>0</th>\n",
       "      <td>2015</td>\n",
       "      <td>63376.965749</td>\n",
       "    </tr>\n",
       "    <tr>\n",
       "      <th>1</th>\n",
       "      <td>2016</td>\n",
       "      <td>99211.603074</td>\n",
       "    </tr>\n",
       "    <tr>\n",
       "      <th>2</th>\n",
       "      <td>2017</td>\n",
       "      <td>113518.561697</td>\n",
       "    </tr>\n",
       "    <tr>\n",
       "      <th>3</th>\n",
       "      <td>2018</td>\n",
       "      <td>202011.031857</td>\n",
       "    </tr>\n",
       "    <tr>\n",
       "      <th>4</th>\n",
       "      <td>2019</td>\n",
       "      <td>236354.240133</td>\n",
       "    </tr>\n",
       "    <tr>\n",
       "      <th>5</th>\n",
       "      <td>2020</td>\n",
       "      <td>152772.681884</td>\n",
       "    </tr>\n",
       "  </tbody>\n",
       "</table>\n",
       "</div>"
      ],
      "text/plain": [
       "   Year             O3\n",
       "0  2015   63376.965749\n",
       "1  2016   99211.603074\n",
       "2  2017  113518.561697\n",
       "3  2018  202011.031857\n",
       "4  2019  236354.240133\n",
       "5  2020  152772.681884"
      ]
     },
     "execution_count": 29,
     "metadata": {},
     "output_type": "execute_result"
    }
   ],
   "source": [
    "df4 = data.groupby([\"Year\"])[\"O3\"].sum().reset_index()\n",
    "df4"
   ]
  },
  {
   "cell_type": "code",
   "execution_count": 30,
   "metadata": {
    "colab": {
     "base_uri": "https://localhost:8080/",
     "height": 336
    },
    "id": "Mp2jfDYE1wf7",
    "outputId": "7e459754-6670-4eef-de55-4e66d5a1b20a"
   },
   "outputs": [
    {
     "data": {
      "image/png": "[encoded data removed]",
      "text/plain": [
       "<Figure size 504x360 with 1 Axes>"
      ]
     },
     "metadata": {
      "needs_background": "light"
     },
     "output_type": "display_data"
    }
   ],
   "source": [
    "plt.figure(figsize=(7, 5))\n",
    "plt.bar(\"Year\", \"O3\", data = df4)\n",
    "plt.title(\"Ozone data for all cities\")\n",
    "plt.show()"
   ]
  },
  {
   "cell_type": "markdown",
   "metadata": {
    "id": "vfpbD7Ib4WXs"
   },
   "source": [
    "Increament in emission of ozone from year 2015 to 2019"
   ]
  },
  {
   "cell_type": "code",
   "execution_count": 31,
   "metadata": {
    "colab": {
     "base_uri": "https://localhost:8080/"
    },
    "id": "gs8Kd48W1wt0",
    "outputId": "6b181656-5e48-49e5-d4a4-539528df26c4"
   },
   "outputs": [
    {
     "data": {
      "text/plain": [
       "array(['Poor', 'Very Poor', 'Severe', 'Moderate', 'Satisfactory', 'Good'],\n",
       "      dtype=object)"
      ]
     },
     "execution_count": 31,
     "metadata": {},
     "output_type": "execute_result"
    }
   ],
   "source": [
    "data[\"AQI_Bucket\"].unique()"
   ]
  },
  {
   "cell_type": "code",
   "execution_count": 32,
   "metadata": {
    "colab": {
     "base_uri": "https://localhost:8080/"
    },
    "id": "7ViHmRv34uQs",
    "outputId": "c731b434-8057-419e-811e-19985040d1e3"
   },
   "outputs": [
    {
     "data": {
      "text/plain": [
       "array([2015, 2016, 2017, 2018, 2019, 2020], dtype=int64)"
      ]
     },
     "execution_count": 32,
     "metadata": {},
     "output_type": "execute_result"
    }
   ],
   "source": [
    "data[\"Year\"].unique()"
   ]
  },
  {
   "cell_type": "code",
   "execution_count": 33,
   "metadata": {
    "colab": {
     "base_uri": "https://localhost:8080/",
     "height": 204
    },
    "id": "DhxaXrEE4udP",
    "outputId": "0afb7c6a-eac9-4c7b-bb24-6e620545544e"
   },
   "outputs": [
    {
     "data": {
      "text/html": [
       "<div>\n",
       "<style scoped>\n",
       "    .dataframe tbody tr th:only-of-type {\n",
       "        vertical-align: middle;\n",
       "    }\n",
       "\n",
       "    .dataframe tbody tr th {\n",
       "        vertical-align: top;\n",
       "    }\n",
       "\n",
       "    .dataframe thead th {\n",
       "        text-align: right;\n",
       "    }\n",
       "</style>\n",
       "<table border=\"1\" class=\"dataframe\">\n",
       "  <thead>\n",
       "    <tr style=\"text-align: right;\">\n",
       "      <th></th>\n",
       "      <th>Year</th>\n",
       "      <th>AQI_Bucket</th>\n",
       "      <th>AQI</th>\n",
       "    </tr>\n",
       "  </thead>\n",
       "  <tbody>\n",
       "    <tr>\n",
       "      <th>0</th>\n",
       "      <td>2015</td>\n",
       "      <td>Good</td>\n",
       "      <td>27</td>\n",
       "    </tr>\n",
       "    <tr>\n",
       "      <th>1</th>\n",
       "      <td>2015</td>\n",
       "      <td>Moderate</td>\n",
       "      <td>756</td>\n",
       "    </tr>\n",
       "    <tr>\n",
       "      <th>2</th>\n",
       "      <td>2015</td>\n",
       "      <td>Poor</td>\n",
       "      <td>326</td>\n",
       "    </tr>\n",
       "    <tr>\n",
       "      <th>3</th>\n",
       "      <td>2015</td>\n",
       "      <td>Satisfactory</td>\n",
       "      <td>278</td>\n",
       "    </tr>\n",
       "    <tr>\n",
       "      <th>4</th>\n",
       "      <td>2015</td>\n",
       "      <td>Severe</td>\n",
       "      <td>145</td>\n",
       "    </tr>\n",
       "  </tbody>\n",
       "</table>\n",
       "</div>"
      ],
      "text/plain": [
       "   Year    AQI_Bucket  AQI\n",
       "0  2015          Good   27\n",
       "1  2015      Moderate  756\n",
       "2  2015          Poor  326\n",
       "3  2015  Satisfactory  278\n",
       "4  2015        Severe  145"
      ]
     },
     "execution_count": 33,
     "metadata": {},
     "output_type": "execute_result"
    }
   ],
   "source": [
    "df2 = data.groupby([\"Year\", \"AQI_Bucket\"])[\"AQI\"].count().reset_index()\n",
    "df2.head()"
   ]
  },
  {
   "cell_type": "code",
   "execution_count": 34,
   "metadata": {
    "colab": {
     "base_uri": "https://localhost:8080/",
     "height": 433
    },
    "id": "WPDt14fh46WJ",
    "outputId": "c1a88865-1a70-4b7b-a646-45b9a40e36a8"
   },
   "outputs": [
    {
     "data": {
      "text/plain": [
       "Text(0.5, 1.0, 'AQI bucket data for all years')"
      ]
     },
     "execution_count": 34,
     "metadata": {},
     "output_type": "execute_result"
    },
    {
     "data": {
      "text/plain": [
       "<Figure size 504x432 with 0 Axes>"
      ]
     },
     "metadata": {},
     "output_type": "display_data"
    },
    {
     "data": {
      "image/png": "[encoded data removed]",
      "text/plain": [
       "<Figure size 455.5x360 with 1 Axes>"
      ]
     },
     "metadata": {
      "needs_background": "light"
     },
     "output_type": "display_data"
    }
   ],
   "source": [
    "plt.figure(figsize = (7, 6))\n",
    "sns.catplot(data= df2, x= \"Year\", y =\"AQI\", hue = \"AQI_Bucket\", kind = \"bar\")\n",
    "plt.ylabel(\"AQI_Bucket count\")\n",
    "plt.title(\"AQI bucket data for all years\")"
   ]
  },
  {
   "cell_type": "code",
   "execution_count": 35,
   "metadata": {
    "colab": {
     "base_uri": "https://localhost:8080/",
     "height": 204
    },
    "id": "3CYYQmW646jH",
    "outputId": "c363e7b2-62e5-4847-89d2-7dd57c5eac99"
   },
   "outputs": [
    {
     "data": {
      "text/html": [
       "<div>\n",
       "<style scoped>\n",
       "    .dataframe tbody tr th:only-of-type {\n",
       "        vertical-align: middle;\n",
       "    }\n",
       "\n",
       "    .dataframe tbody tr th {\n",
       "        vertical-align: top;\n",
       "    }\n",
       "\n",
       "    .dataframe thead th {\n",
       "        text-align: right;\n",
       "    }\n",
       "</style>\n",
       "<table border=\"1\" class=\"dataframe\">\n",
       "  <thead>\n",
       "    <tr style=\"text-align: right;\">\n",
       "      <th></th>\n",
       "      <th>City</th>\n",
       "      <th>Year</th>\n",
       "      <th>NOx</th>\n",
       "    </tr>\n",
       "  </thead>\n",
       "  <tbody>\n",
       "    <tr>\n",
       "      <th>37</th>\n",
       "      <td>Delhi</td>\n",
       "      <td>2015</td>\n",
       "      <td>29852.01</td>\n",
       "    </tr>\n",
       "    <tr>\n",
       "      <th>38</th>\n",
       "      <td>Delhi</td>\n",
       "      <td>2016</td>\n",
       "      <td>27598.06</td>\n",
       "    </tr>\n",
       "    <tr>\n",
       "      <th>67</th>\n",
       "      <td>Kolkata</td>\n",
       "      <td>2019</td>\n",
       "      <td>24302.13</td>\n",
       "    </tr>\n",
       "    <tr>\n",
       "      <th>4</th>\n",
       "      <td>Ahmedabad</td>\n",
       "      <td>2019</td>\n",
       "      <td>22227.24</td>\n",
       "    </tr>\n",
       "    <tr>\n",
       "      <th>3</th>\n",
       "      <td>Ahmedabad</td>\n",
       "      <td>2018</td>\n",
       "      <td>21543.76</td>\n",
       "    </tr>\n",
       "  </tbody>\n",
       "</table>\n",
       "</div>"
      ],
      "text/plain": [
       "         City  Year       NOx\n",
       "37      Delhi  2015  29852.01\n",
       "38      Delhi  2016  27598.06\n",
       "67    Kolkata  2019  24302.13\n",
       "4   Ahmedabad  2019  22227.24\n",
       "3   Ahmedabad  2018  21543.76"
      ]
     },
     "execution_count": 35,
     "metadata": {},
     "output_type": "execute_result"
    }
   ],
   "source": [
    "df7 = data.groupby([\"City\", \"Year\"])[\"NOx\"].sum().reset_index().sort_values(by=\"NOx\", ascending = False)\n",
    "df7.head()"
   ]
  },
  {
   "cell_type": "code",
   "execution_count": 36,
   "metadata": {
    "colab": {
     "base_uri": "https://localhost:8080/",
     "height": 451
    },
    "id": "yVNS4tmI5REu",
    "outputId": "6ca19166-4a80-4790-a6c0-d9f539b55168"
   },
   "outputs": [
    {
     "data": {
      "text/plain": [
       "<Figure size 504x288 with 0 Axes>"
      ]
     },
     "metadata": {},
     "output_type": "display_data"
    },
    {
     "data": {
      "image/png": "[encoded data removed]",
      "text/plain": [
       "<Figure size 360x360 with 1 Axes>"
      ]
     },
     "metadata": {
      "needs_background": "light"
     },
     "output_type": "display_data"
    }
   ],
   "source": [
    "plt.figure(figsize=(7, 4))\n",
    "sns.catplot(x=\"City\", y=\"NOx\", data = df7.head(10), kind= \"bar\")\n",
    "plt.xticks(rotation=90)\n",
    "plt.show()"
   ]
  },
  {
   "cell_type": "code",
   "execution_count": 37,
   "metadata": {
    "colab": {
     "base_uri": "https://localhost:8080/"
    },
    "id": "tRI47hCG5RpU",
    "outputId": "d5b69fdc-e632-4e59-a278-17526acf32b1"
   },
   "outputs": [
    {
     "data": {
      "text/plain": [
       "PM2.5     3.001976\n",
       "PM10      2.289372\n",
       "NO        3.545800\n",
       "NO2       2.456446\n",
       "NOx       2.496494\n",
       "NH3       4.803789\n",
       "CO        8.708375\n",
       "SO2       4.009550\n",
       "O3        1.349305\n",
       "AQI       3.396757\n",
       "BTX      16.888911\n",
       "Year     -0.547299\n",
       "dtype: float64"
      ]
     },
     "execution_count": 37,
     "metadata": {},
     "output_type": "execute_result"
    }
   ],
   "source": [
    "data.skew()"
   ]
  },
  {
   "cell_type": "code",
   "execution_count": 38,
   "metadata": {
    "colab": {
     "base_uri": "https://localhost:8080/"
    },
    "id": "LIZSn8U_z8sJ",
    "outputId": "82783d62-937a-44ce-b10a-fd702d23e5ae"
   },
   "outputs": [
    {
     "data": {
      "text/plain": [
       "PM2.5     15.381195\n",
       "PM10       8.847470\n",
       "NO        19.424781\n",
       "NO2       11.227612\n",
       "NOx        9.364779\n",
       "NH3       39.353428\n",
       "CO       105.217286\n",
       "SO2       21.244010\n",
       "O3         3.639559\n",
       "AQI       21.423727\n",
       "BTX      409.125963\n",
       "Year      -0.640512\n",
       "dtype: float64"
      ]
     },
     "execution_count": 38,
     "metadata": {},
     "output_type": "execute_result"
    }
   ],
   "source": [
    "data.kurtosis()"
   ]
  },
  {
   "cell_type": "code",
   "execution_count": 39,
   "metadata": {
    "colab": {
     "base_uri": "https://localhost:8080/",
     "height": 421
    },
    "id": "9ULmKrmvz8z8",
    "outputId": "f9d3e556-4c1d-4370-9f4b-067d85daf20c"
   },
   "outputs": [
    {
     "data": {
      "text/html": [
       "<div>\n",
       "<style scoped>\n",
       "    .dataframe tbody tr th:only-of-type {\n",
       "        vertical-align: middle;\n",
       "    }\n",
       "\n",
       "    .dataframe tbody tr th {\n",
       "        vertical-align: top;\n",
       "    }\n",
       "\n",
       "    .dataframe thead th {\n",
       "        text-align: right;\n",
       "    }\n",
       "</style>\n",
       "<table border=\"1\" class=\"dataframe\">\n",
       "  <thead>\n",
       "    <tr style=\"text-align: right;\">\n",
       "      <th></th>\n",
       "      <th>PM2.5</th>\n",
       "      <th>PM10</th>\n",
       "      <th>NO</th>\n",
       "      <th>NO2</th>\n",
       "      <th>NOx</th>\n",
       "      <th>NH3</th>\n",
       "      <th>CO</th>\n",
       "      <th>SO2</th>\n",
       "      <th>O3</th>\n",
       "      <th>AQI</th>\n",
       "      <th>BTX</th>\n",
       "      <th>Year</th>\n",
       "    </tr>\n",
       "  </thead>\n",
       "  <tbody>\n",
       "    <tr>\n",
       "      <th>PM2.5</th>\n",
       "      <td>1.000000</td>\n",
       "      <td>0.566698</td>\n",
       "      <td>0.456844</td>\n",
       "      <td>0.362218</td>\n",
       "      <td>0.421468</td>\n",
       "      <td>0.195216</td>\n",
       "      <td>0.092622</td>\n",
       "      <td>0.130575</td>\n",
       "      <td>0.163140</td>\n",
       "      <td>0.654743</td>\n",
       "      <td>0.098997</td>\n",
       "      <td>-0.233022</td>\n",
       "    </tr>\n",
       "    <tr>\n",
       "      <th>PM10</th>\n",
       "      <td>0.566698</td>\n",
       "      <td>1.000000</td>\n",
       "      <td>0.458681</td>\n",
       "      <td>0.376809</td>\n",
       "      <td>0.457060</td>\n",
       "      <td>0.231140</td>\n",
       "      <td>0.049067</td>\n",
       "      <td>0.183922</td>\n",
       "      <td>0.212090</td>\n",
       "      <td>0.499126</td>\n",
       "      <td>0.089800</td>\n",
       "      <td>-0.167523</td>\n",
       "    </tr>\n",
       "    <tr>\n",
       "      <th>NO</th>\n",
       "      <td>0.456844</td>\n",
       "      <td>0.458681</td>\n",
       "      <td>1.000000</td>\n",
       "      <td>0.479326</td>\n",
       "      <td>0.790173</td>\n",
       "      <td>0.155986</td>\n",
       "      <td>0.216717</td>\n",
       "      <td>0.186106</td>\n",
       "      <td>0.017522</td>\n",
       "      <td>0.450700</td>\n",
       "      <td>0.117851</td>\n",
       "      <td>-0.029643</td>\n",
       "    </tr>\n",
       "    <tr>\n",
       "      <th>NO2</th>\n",
       "      <td>0.362218</td>\n",
       "      <td>0.376809</td>\n",
       "      <td>0.479326</td>\n",
       "      <td>1.000000</td>\n",
       "      <td>0.613578</td>\n",
       "      <td>0.166876</td>\n",
       "      <td>0.369363</td>\n",
       "      <td>0.416849</td>\n",
       "      <td>0.288820</td>\n",
       "      <td>0.535325</td>\n",
       "      <td>0.224003</td>\n",
       "      <td>-0.084624</td>\n",
       "    </tr>\n",
       "    <tr>\n",
       "      <th>NOx</th>\n",
       "      <td>0.421468</td>\n",
       "      <td>0.457060</td>\n",
       "      <td>0.790173</td>\n",
       "      <td>0.613578</td>\n",
       "      <td>1.000000</td>\n",
       "      <td>0.131859</td>\n",
       "      <td>0.247272</td>\n",
       "      <td>0.240183</td>\n",
       "      <td>0.090884</td>\n",
       "      <td>0.474232</td>\n",
       "      <td>0.150870</td>\n",
       "      <td>-0.013164</td>\n",
       "    </tr>\n",
       "    <tr>\n",
       "      <th>NH3</th>\n",
       "      <td>0.195216</td>\n",
       "      <td>0.231140</td>\n",
       "      <td>0.155986</td>\n",
       "      <td>0.166876</td>\n",
       "      <td>0.131859</td>\n",
       "      <td>1.000000</td>\n",
       "      <td>0.019102</td>\n",
       "      <td>-0.016974</td>\n",
       "      <td>0.079407</td>\n",
       "      <td>0.139687</td>\n",
       "      <td>0.012680</td>\n",
       "      <td>-0.210078</td>\n",
       "    </tr>\n",
       "    <tr>\n",
       "      <th>CO</th>\n",
       "      <td>0.092622</td>\n",
       "      <td>0.049067</td>\n",
       "      <td>0.216717</td>\n",
       "      <td>0.369363</td>\n",
       "      <td>0.247272</td>\n",
       "      <td>0.019102</td>\n",
       "      <td>1.000000</td>\n",
       "      <td>0.494681</td>\n",
       "      <td>0.039616</td>\n",
       "      <td>0.678351</td>\n",
       "      <td>0.213067</td>\n",
       "      <td>-0.078119</td>\n",
       "    </tr>\n",
       "    <tr>\n",
       "      <th>SO2</th>\n",
       "      <td>0.130575</td>\n",
       "      <td>0.183922</td>\n",
       "      <td>0.186106</td>\n",
       "      <td>0.416849</td>\n",
       "      <td>0.240183</td>\n",
       "      <td>-0.016974</td>\n",
       "      <td>0.494681</td>\n",
       "      <td>1.000000</td>\n",
       "      <td>0.166166</td>\n",
       "      <td>0.484797</td>\n",
       "      <td>0.216541</td>\n",
       "      <td>0.051898</td>\n",
       "    </tr>\n",
       "    <tr>\n",
       "      <th>O3</th>\n",
       "      <td>0.163140</td>\n",
       "      <td>0.212090</td>\n",
       "      <td>0.017522</td>\n",
       "      <td>0.288820</td>\n",
       "      <td>0.090884</td>\n",
       "      <td>0.079407</td>\n",
       "      <td>0.039616</td>\n",
       "      <td>0.166166</td>\n",
       "      <td>1.000000</td>\n",
       "      <td>0.193988</td>\n",
       "      <td>0.098511</td>\n",
       "      <td>-0.040400</td>\n",
       "    </tr>\n",
       "    <tr>\n",
       "      <th>AQI</th>\n",
       "      <td>0.654743</td>\n",
       "      <td>0.499126</td>\n",
       "      <td>0.450700</td>\n",
       "      <td>0.535325</td>\n",
       "      <td>0.474232</td>\n",
       "      <td>0.139687</td>\n",
       "      <td>0.678351</td>\n",
       "      <td>0.484797</td>\n",
       "      <td>0.193988</td>\n",
       "      <td>1.000000</td>\n",
       "      <td>0.214605</td>\n",
       "      <td>-0.192464</td>\n",
       "    </tr>\n",
       "    <tr>\n",
       "      <th>BTX</th>\n",
       "      <td>0.098997</td>\n",
       "      <td>0.089800</td>\n",
       "      <td>0.117851</td>\n",
       "      <td>0.224003</td>\n",
       "      <td>0.150870</td>\n",
       "      <td>0.012680</td>\n",
       "      <td>0.213067</td>\n",
       "      <td>0.216541</td>\n",
       "      <td>0.098511</td>\n",
       "      <td>0.214605</td>\n",
       "      <td>1.000000</td>\n",
       "      <td>0.039515</td>\n",
       "    </tr>\n",
       "    <tr>\n",
       "      <th>Year</th>\n",
       "      <td>-0.233022</td>\n",
       "      <td>-0.167523</td>\n",
       "      <td>-0.029643</td>\n",
       "      <td>-0.084624</td>\n",
       "      <td>-0.013164</td>\n",
       "      <td>-0.210078</td>\n",
       "      <td>-0.078119</td>\n",
       "      <td>0.051898</td>\n",
       "      <td>-0.040400</td>\n",
       "      <td>-0.192464</td>\n",
       "      <td>0.039515</td>\n",
       "      <td>1.000000</td>\n",
       "    </tr>\n",
       "  </tbody>\n",
       "</table>\n",
       "</div>"
      ],
      "text/plain": [
       "          PM2.5      PM10        NO       NO2       NOx       NH3        CO  \\\n",
       "PM2.5  1.000000  0.566698  0.456844  0.362218  0.421468  0.195216  0.092622   \n",
       "PM10   0.566698  1.000000  0.458681  0.376809  0.457060  0.231140  0.049067   \n",
       "NO     0.456844  0.458681  1.000000  0.479326  0.790173  0.155986  0.216717   \n",
       "NO2    0.362218  0.376809  0.479326  1.000000  0.613578  0.166876  0.369363   \n",
       "NOx    0.421468  0.457060  0.790173  0.613578  1.000000  0.131859  0.247272   \n",
       "NH3    0.195216  0.231140  0.155986  0.166876  0.131859  1.000000  0.019102   \n",
       "CO     0.092622  0.049067  0.216717  0.369363  0.247272  0.019102  1.000000   \n",
       "SO2    0.130575  0.183922  0.186106  0.416849  0.240183 -0.016974  0.494681   \n",
       "O3     0.163140  0.212090  0.017522  0.288820  0.090884  0.079407  0.039616   \n",
       "AQI    0.654743  0.499126  0.450700  0.535325  0.474232  0.139687  0.678351   \n",
       "BTX    0.098997  0.089800  0.117851  0.224003  0.150870  0.012680  0.213067   \n",
       "Year  -0.233022 -0.167523 -0.029643 -0.084624 -0.013164 -0.210078 -0.078119   \n",
       "\n",
       "            SO2        O3       AQI       BTX      Year  \n",
       "PM2.5  0.130575  0.163140  0.654743  0.098997 -0.233022  \n",
       "PM10   0.183922  0.212090  0.499126  0.089800 -0.167523  \n",
       "NO     0.186106  0.017522  0.450700  0.117851 -0.029643  \n",
       "NO2    0.416849  0.288820  0.535325  0.224003 -0.084624  \n",
       "NOx    0.240183  0.090884  0.474232  0.150870 -0.013164  \n",
       "NH3   -0.016974  0.079407  0.139687  0.012680 -0.210078  \n",
       "CO     0.494681  0.039616  0.678351  0.213067 -0.078119  \n",
       "SO2    1.000000  0.166166  0.484797  0.216541  0.051898  \n",
       "O3     0.166166  1.000000  0.193988  0.098511 -0.040400  \n",
       "AQI    0.484797  0.193988  1.000000  0.214605 -0.192464  \n",
       "BTX    0.216541  0.098511  0.214605  1.000000  0.039515  \n",
       "Year   0.051898 -0.040400 -0.192464  0.039515  1.000000  "
      ]
     },
     "execution_count": 39,
     "metadata": {},
     "output_type": "execute_result"
    }
   ],
   "source": [
    "corr_data = data.corr()\n",
    "corr_data"
   ]
  },
  {
   "cell_type": "code",
   "execution_count": 40,
   "metadata": {
    "colab": {
     "base_uri": "https://localhost:8080/",
     "height": 487
    },
    "id": "DC0jJFJqiqFw",
    "outputId": "e053b762-2c85-4e58-8e7b-a8553fe3640c"
   },
   "outputs": [
    {
     "data": {
      "image/png": "[encoded data removed]",
      "text/plain": [
       "<Figure size 720x576 with 2 Axes>"
      ]
     },
     "metadata": {
      "needs_background": "light"
     },
     "output_type": "display_data"
    }
   ],
   "source": [
    "# Heatmap showing correlation between features\n",
    "\n",
    "fig = plt.gcf()\n",
    "fig.set_size_inches(10,8)\n",
    "sns.heatmap(corr_data, annot=True, center=1)\n",
    "plt.show()"
   ]
  },
  {
   "cell_type": "code",
   "execution_count": 41,
   "metadata": {
    "colab": {
     "base_uri": "https://localhost:8080/"
    },
    "id": "4hDUSTRKj0Ur",
    "outputId": "b955f764-3724-481c-9df2-547a55880639"
   },
   "outputs": [
    {
     "data": {
      "text/plain": [
       "PM2.5    0.654743\n",
       "PM10     0.499126\n",
       "NO       0.450700\n",
       "NO2      0.535325\n",
       "NOx      0.474232\n",
       "NH3      0.139687\n",
       "CO       0.678351\n",
       "SO2      0.484797\n",
       "O3       0.193988\n",
       "AQI      1.000000\n",
       "BTX      0.214605\n",
       "Year    -0.192464\n",
       "Name: AQI, dtype: float64"
      ]
     },
     "execution_count": 41,
     "metadata": {},
     "output_type": "execute_result"
    }
   ],
   "source": [
    "corr_data['AQI']"
   ]
  },
  {
   "cell_type": "markdown",
   "metadata": {
    "id": "yGas9c58AvNg"
   },
   "source": [
    "Distribution plot of the year"
   ]
  },
  {
   "cell_type": "code",
   "execution_count": 42,
   "metadata": {
    "colab": {
     "base_uri": "https://localhost:8080/",
     "height": 346
    },
    "id": "ZMZDYLY5Azqn",
    "outputId": "7b82ed73-c4d1-4afb-bd97-f0bf6e39b2ef"
   },
   "outputs": [
    {
     "data": {
      "image/png": "[encoded data removed]",
      "text/plain": [
       "<Figure size 432x288 with 1 Axes>"
      ]
     },
     "metadata": {
      "needs_background": "light"
     },
     "output_type": "display_data"
    }
   ],
   "source": [
    "#Barchat for AQI_Bucket\n",
    "\n",
    "sns.countplot(x=\"AQI_Bucket\", data = data)\n",
    "plt.xticks(rotation=90)\n",
    "plt.title(\"Bar plot of AQI_Bucket count\")\n",
    "plt.show()"
   ]
  },
  {
   "cell_type": "code",
   "execution_count": 43,
   "metadata": {
    "colab": {
     "base_uri": "https://localhost:8080/",
     "height": 204
    },
    "id": "Zi0zb5hV8C7O",
    "outputId": "512d117d-986e-4c76-e043-9170870c37e9"
   },
   "outputs": [
    {
     "data": {
      "text/html": [
       "<div>\n",
       "<style scoped>\n",
       "    .dataframe tbody tr th:only-of-type {\n",
       "        vertical-align: middle;\n",
       "    }\n",
       "\n",
       "    .dataframe tbody tr th {\n",
       "        vertical-align: top;\n",
       "    }\n",
       "\n",
       "    .dataframe thead th {\n",
       "        text-align: right;\n",
       "    }\n",
       "</style>\n",
       "<table border=\"1\" class=\"dataframe\">\n",
       "  <thead>\n",
       "    <tr style=\"text-align: right;\">\n",
       "      <th></th>\n",
       "      <th>City</th>\n",
       "      <th>Date</th>\n",
       "      <th>PM2.5</th>\n",
       "      <th>PM10</th>\n",
       "      <th>NO</th>\n",
       "      <th>NO2</th>\n",
       "      <th>NOx</th>\n",
       "      <th>NH3</th>\n",
       "      <th>CO</th>\n",
       "      <th>SO2</th>\n",
       "      <th>O3</th>\n",
       "      <th>AQI</th>\n",
       "      <th>AQI_Bucket</th>\n",
       "      <th>BTX</th>\n",
       "      <th>Year</th>\n",
       "    </tr>\n",
       "  </thead>\n",
       "  <tbody>\n",
       "    <tr>\n",
       "      <th>28</th>\n",
       "      <td>Ahmedabad</td>\n",
       "      <td>2015-01-29</td>\n",
       "      <td>83.13</td>\n",
       "      <td>118.127103</td>\n",
       "      <td>6.93</td>\n",
       "      <td>28.71</td>\n",
       "      <td>33.72</td>\n",
       "      <td>23.483476</td>\n",
       "      <td>6.93</td>\n",
       "      <td>49.52</td>\n",
       "      <td>59.76</td>\n",
       "      <td>209.0</td>\n",
       "      <td>Poor</td>\n",
       "      <td>3.16</td>\n",
       "      <td>2015</td>\n",
       "    </tr>\n",
       "    <tr>\n",
       "      <th>29</th>\n",
       "      <td>Ahmedabad</td>\n",
       "      <td>2015-01-30</td>\n",
       "      <td>79.84</td>\n",
       "      <td>118.127103</td>\n",
       "      <td>13.85</td>\n",
       "      <td>28.68</td>\n",
       "      <td>41.08</td>\n",
       "      <td>23.483476</td>\n",
       "      <td>13.85</td>\n",
       "      <td>48.49</td>\n",
       "      <td>97.07</td>\n",
       "      <td>328.0</td>\n",
       "      <td>Very Poor</td>\n",
       "      <td>4.85</td>\n",
       "      <td>2015</td>\n",
       "    </tr>\n",
       "    <tr>\n",
       "      <th>30</th>\n",
       "      <td>Ahmedabad</td>\n",
       "      <td>2015-01-31</td>\n",
       "      <td>94.52</td>\n",
       "      <td>118.127103</td>\n",
       "      <td>24.39</td>\n",
       "      <td>32.66</td>\n",
       "      <td>52.61</td>\n",
       "      <td>23.483476</td>\n",
       "      <td>24.39</td>\n",
       "      <td>67.39</td>\n",
       "      <td>111.33</td>\n",
       "      <td>514.0</td>\n",
       "      <td>Severe</td>\n",
       "      <td>7.92</td>\n",
       "      <td>2015</td>\n",
       "    </tr>\n",
       "    <tr>\n",
       "      <th>31</th>\n",
       "      <td>Ahmedabad</td>\n",
       "      <td>2015-02-01</td>\n",
       "      <td>135.99</td>\n",
       "      <td>118.127103</td>\n",
       "      <td>43.48</td>\n",
       "      <td>42.08</td>\n",
       "      <td>84.57</td>\n",
       "      <td>23.483476</td>\n",
       "      <td>43.48</td>\n",
       "      <td>75.23</td>\n",
       "      <td>102.70</td>\n",
       "      <td>782.0</td>\n",
       "      <td>Severe</td>\n",
       "      <td>26.31</td>\n",
       "      <td>2015</td>\n",
       "    </tr>\n",
       "    <tr>\n",
       "      <th>32</th>\n",
       "      <td>Ahmedabad</td>\n",
       "      <td>2015-02-02</td>\n",
       "      <td>178.33</td>\n",
       "      <td>118.127103</td>\n",
       "      <td>54.56</td>\n",
       "      <td>35.31</td>\n",
       "      <td>72.80</td>\n",
       "      <td>23.483476</td>\n",
       "      <td>54.56</td>\n",
       "      <td>55.04</td>\n",
       "      <td>107.38</td>\n",
       "      <td>914.0</td>\n",
       "      <td>Severe</td>\n",
       "      <td>36.13</td>\n",
       "      <td>2015</td>\n",
       "    </tr>\n",
       "  </tbody>\n",
       "</table>\n",
       "</div>"
      ],
      "text/plain": [
       "         City       Date   PM2.5        PM10     NO    NO2    NOx        NH3  \\\n",
       "28  Ahmedabad 2015-01-29   83.13  118.127103   6.93  28.71  33.72  23.483476   \n",
       "29  Ahmedabad 2015-01-30   79.84  118.127103  13.85  28.68  41.08  23.483476   \n",
       "30  Ahmedabad 2015-01-31   94.52  118.127103  24.39  32.66  52.61  23.483476   \n",
       "31  Ahmedabad 2015-02-01  135.99  118.127103  43.48  42.08  84.57  23.483476   \n",
       "32  Ahmedabad 2015-02-02  178.33  118.127103  54.56  35.31  72.80  23.483476   \n",
       "\n",
       "       CO    SO2      O3    AQI AQI_Bucket    BTX  Year  \n",
       "28   6.93  49.52   59.76  209.0       Poor   3.16  2015  \n",
       "29  13.85  48.49   97.07  328.0  Very Poor   4.85  2015  \n",
       "30  24.39  67.39  111.33  514.0     Severe   7.92  2015  \n",
       "31  43.48  75.23  102.70  782.0     Severe  26.31  2015  \n",
       "32  54.56  55.04  107.38  914.0     Severe  36.13  2015  "
      ]
     },
     "execution_count": 43,
     "metadata": {},
     "output_type": "execute_result"
    }
   ],
   "source": [
    "data.head()"
   ]
  },
  {
   "cell_type": "code",
   "execution_count": 44,
   "metadata": {
    "colab": {
     "base_uri": "https://localhost:8080/"
    },
    "id": "iSLNmMBt8DQR",
    "outputId": "c22f42d8-e8dd-45af-db12-7b86874e2c1b"
   },
   "outputs": [
    {
     "data": {
      "text/plain": [
       "array(['Ahmedabad', 'Amaravati', 'Amritsar', 'Bengaluru', 'Bhopal',\n",
       "       'Brajrajnagar', 'Chandigarh', 'Chennai', 'Delhi', 'Gurugram',\n",
       "       'Guwahati', 'Hyderabad', 'Jaipur', 'Jorapokhar', 'Kochi',\n",
       "       'Kolkata', 'Lucknow', 'Mumbai', 'Patna', 'Talcher',\n",
       "       'Thiruvananthapuram', 'Visakhapatnam'], dtype=object)"
      ]
     },
     "execution_count": 44,
     "metadata": {},
     "output_type": "execute_result"
    }
   ],
   "source": [
    "np.unique(data.loc[data['AQI_Bucket']=='Poor']['City'].values)"
   ]
  },
  {
   "cell_type": "code",
   "execution_count": 45,
   "metadata": {
    "colab": {
     "base_uri": "https://localhost:8080/"
    },
    "id": "qimtkfjF8DiZ",
    "outputId": "2fa70837-af87-47aa-e1a0-ad002ea753e4"
   },
   "outputs": [
    {
     "data": {
      "text/plain": [
       "array(['Ahmedabad', 'Amaravati', 'Amritsar', 'Bengaluru', 'Bhopal',\n",
       "       'Brajrajnagar', 'Chandigarh', 'Chennai', 'Coimbatore', 'Delhi',\n",
       "       'Ernakulam', 'Gurugram', 'Guwahati', 'Hyderabad', 'Jaipur',\n",
       "       'Jorapokhar', 'Kochi', 'Kolkata', 'Lucknow', 'Mumbai', 'Patna',\n",
       "       'Shillong', 'Talcher', 'Thiruvananthapuram', 'Visakhapatnam'],\n",
       "      dtype=object)"
      ]
     },
     "execution_count": 45,
     "metadata": {},
     "output_type": "execute_result"
    }
   ],
   "source": [
    "np.unique(data.loc[data['AQI_Bucket']=='Moderate']['City'].values)"
   ]
  },
  {
   "cell_type": "code",
   "execution_count": 46,
   "metadata": {
    "colab": {
     "base_uri": "https://localhost:8080/"
    },
    "id": "RLfrSaLB8DyT",
    "outputId": "2b369724-5e85-4766-e1f2-417a6818e1f6"
   },
   "outputs": [
    {
     "data": {
      "text/plain": [
       "array(['Ahmedabad', 'Aizawl', 'Amaravati', 'Amritsar', 'Bengaluru',\n",
       "       'Bhopal', 'Brajrajnagar', 'Chandigarh', 'Chennai', 'Coimbatore',\n",
       "       'Delhi', 'Gurugram', 'Guwahati', 'Hyderabad', 'Jaipur',\n",
       "       'Jorapokhar', 'Kolkata', 'Lucknow', 'Mumbai', 'Shillong',\n",
       "       'Talcher', 'Thiruvananthapuram', 'Visakhapatnam'], dtype=object)"
      ]
     },
     "execution_count": 46,
     "metadata": {},
     "output_type": "execute_result"
    }
   ],
   "source": [
    "np.unique(data.loc[data['AQI_Bucket']=='Good']['City'].values)\n"
   ]
  },
  {
   "cell_type": "code",
   "execution_count": 47,
   "metadata": {
    "id": "u11EwLMAm-KG"
   },
   "outputs": [],
   "source": [
    "from sklearn.model_selection import train_test_split"
   ]
  },
  {
   "cell_type": "code",
   "execution_count": 48,
   "metadata": {
    "id": "kZznffFam-GW"
   },
   "outputs": [],
   "source": [
    "#Generate AQI values for each cities\n",
    " \n",
    "def city_maximum_polution(pollutant):\n",
    " \n",
    "  '''\n",
    "  function to display maximum pollution of given pollutant in cities\n",
    "'''\n",
    "  df = data[[pollutant,'City']].groupby([\"City\"]).mean().sort_values(by=pollutant,ascending=False).reset_index()\n",
    "  return df[:10]"
   ]
  },
  {
   "cell_type": "code",
   "execution_count": 49,
   "metadata": {
    "colab": {
     "base_uri": "https://localhost:8080/",
     "height": 359
    },
    "id": "fpGtqaGVX4T4",
    "outputId": "ddfedb47-3510-4f48-9c6d-1a7ce2c62692"
   },
   "outputs": [
    {
     "data": {
      "text/html": [
       "<div>\n",
       "<style scoped>\n",
       "    .dataframe tbody tr th:only-of-type {\n",
       "        vertical-align: middle;\n",
       "    }\n",
       "\n",
       "    .dataframe tbody tr th {\n",
       "        vertical-align: top;\n",
       "    }\n",
       "\n",
       "    .dataframe thead th {\n",
       "        text-align: right;\n",
       "    }\n",
       "</style>\n",
       "<table border=\"1\" class=\"dataframe\">\n",
       "  <thead>\n",
       "    <tr style=\"text-align: right;\">\n",
       "      <th></th>\n",
       "      <th>City</th>\n",
       "      <th>AQI</th>\n",
       "    </tr>\n",
       "  </thead>\n",
       "  <tbody>\n",
       "    <tr>\n",
       "      <th>0</th>\n",
       "      <td>Ahmedabad</td>\n",
       "      <td>452.122939</td>\n",
       "    </tr>\n",
       "    <tr>\n",
       "      <th>1</th>\n",
       "      <td>Delhi</td>\n",
       "      <td>259.487744</td>\n",
       "    </tr>\n",
       "    <tr>\n",
       "      <th>2</th>\n",
       "      <td>Patna</td>\n",
       "      <td>240.782042</td>\n",
       "    </tr>\n",
       "    <tr>\n",
       "      <th>3</th>\n",
       "      <td>Gurugram</td>\n",
       "      <td>225.123882</td>\n",
       "    </tr>\n",
       "    <tr>\n",
       "      <th>4</th>\n",
       "      <td>Lucknow</td>\n",
       "      <td>217.973059</td>\n",
       "    </tr>\n",
       "    <tr>\n",
       "      <th>5</th>\n",
       "      <td>Talcher</td>\n",
       "      <td>172.886819</td>\n",
       "    </tr>\n",
       "    <tr>\n",
       "      <th>6</th>\n",
       "      <td>Jorapokhar</td>\n",
       "      <td>159.251621</td>\n",
       "    </tr>\n",
       "    <tr>\n",
       "      <th>7</th>\n",
       "      <td>Brajrajnagar</td>\n",
       "      <td>150.280505</td>\n",
       "    </tr>\n",
       "    <tr>\n",
       "      <th>8</th>\n",
       "      <td>Kolkata</td>\n",
       "      <td>140.566313</td>\n",
       "    </tr>\n",
       "    <tr>\n",
       "      <th>9</th>\n",
       "      <td>Guwahati</td>\n",
       "      <td>140.111111</td>\n",
       "    </tr>\n",
       "  </tbody>\n",
       "</table>\n",
       "</div>"
      ],
      "text/plain": [
       "           City         AQI\n",
       "0     Ahmedabad  452.122939\n",
       "1         Delhi  259.487744\n",
       "2         Patna  240.782042\n",
       "3      Gurugram  225.123882\n",
       "4       Lucknow  217.973059\n",
       "5       Talcher  172.886819\n",
       "6    Jorapokhar  159.251621\n",
       "7  Brajrajnagar  150.280505\n",
       "8       Kolkata  140.566313\n",
       "9      Guwahati  140.111111"
      ]
     },
     "execution_count": 49,
     "metadata": {},
     "output_type": "execute_result"
    }
   ],
   "source": [
    "city_maximum_polution('AQI')"
   ]
  },
  {
   "cell_type": "code",
   "execution_count": 50,
   "metadata": {
    "colab": {
     "base_uri": "https://localhost:8080/",
     "height": 359
    },
    "id": "ZaA16SUHYcjd",
    "outputId": "f7b9be1d-40c7-4c34-c777-d4c44f818dfe"
   },
   "outputs": [
    {
     "data": {
      "text/html": [
       "<div>\n",
       "<style scoped>\n",
       "    .dataframe tbody tr th:only-of-type {\n",
       "        vertical-align: middle;\n",
       "    }\n",
       "\n",
       "    .dataframe tbody tr th {\n",
       "        vertical-align: top;\n",
       "    }\n",
       "\n",
       "    .dataframe thead th {\n",
       "        text-align: right;\n",
       "    }\n",
       "</style>\n",
       "<table border=\"1\" class=\"dataframe\">\n",
       "  <thead>\n",
       "    <tr style=\"text-align: right;\">\n",
       "      <th></th>\n",
       "      <th>City</th>\n",
       "      <th>PM2.5</th>\n",
       "    </tr>\n",
       "  </thead>\n",
       "  <tbody>\n",
       "    <tr>\n",
       "      <th>0</th>\n",
       "      <td>Patna</td>\n",
       "      <td>124.646451</td>\n",
       "    </tr>\n",
       "    <tr>\n",
       "      <th>1</th>\n",
       "      <td>Delhi</td>\n",
       "      <td>117.524708</td>\n",
       "    </tr>\n",
       "    <tr>\n",
       "      <th>2</th>\n",
       "      <td>Gurugram</td>\n",
       "      <td>115.443471</td>\n",
       "    </tr>\n",
       "    <tr>\n",
       "      <th>3</th>\n",
       "      <td>Lucknow</td>\n",
       "      <td>109.748849</td>\n",
       "    </tr>\n",
       "    <tr>\n",
       "      <th>4</th>\n",
       "      <td>Ahmedabad</td>\n",
       "      <td>67.871762</td>\n",
       "    </tr>\n",
       "    <tr>\n",
       "      <th>5</th>\n",
       "      <td>Jorapokhar</td>\n",
       "      <td>66.018054</td>\n",
       "    </tr>\n",
       "    <tr>\n",
       "      <th>6</th>\n",
       "      <td>Kolkata</td>\n",
       "      <td>64.653342</td>\n",
       "    </tr>\n",
       "    <tr>\n",
       "      <th>7</th>\n",
       "      <td>Brajrajnagar</td>\n",
       "      <td>63.990913</td>\n",
       "    </tr>\n",
       "    <tr>\n",
       "      <th>8</th>\n",
       "      <td>Talcher</td>\n",
       "      <td>62.246159</td>\n",
       "    </tr>\n",
       "    <tr>\n",
       "      <th>9</th>\n",
       "      <td>Guwahati</td>\n",
       "      <td>61.499819</td>\n",
       "    </tr>\n",
       "  </tbody>\n",
       "</table>\n",
       "</div>"
      ],
      "text/plain": [
       "           City       PM2.5\n",
       "0         Patna  124.646451\n",
       "1         Delhi  117.524708\n",
       "2      Gurugram  115.443471\n",
       "3       Lucknow  109.748849\n",
       "4     Ahmedabad   67.871762\n",
       "5    Jorapokhar   66.018054\n",
       "6       Kolkata   64.653342\n",
       "7  Brajrajnagar   63.990913\n",
       "8       Talcher   62.246159\n",
       "9      Guwahati   61.499819"
      ]
     },
     "execution_count": 50,
     "metadata": {},
     "output_type": "execute_result"
    }
   ],
   "source": [
    "city_maximum_polution('PM2.5')"
   ]
  },
  {
   "cell_type": "code",
   "execution_count": 51,
   "metadata": {
    "colab": {
     "base_uri": "https://localhost:8080/",
     "height": 359
    },
    "id": "LYxDK7SpYclw",
    "outputId": "7e951e7c-9943-4487-f76f-cc09d85b52ef"
   },
   "outputs": [
    {
     "data": {
      "text/html": [
       "<div>\n",
       "<style scoped>\n",
       "    .dataframe tbody tr th:only-of-type {\n",
       "        vertical-align: middle;\n",
       "    }\n",
       "\n",
       "    .dataframe tbody tr th {\n",
       "        vertical-align: top;\n",
       "    }\n",
       "\n",
       "    .dataframe thead th {\n",
       "        text-align: right;\n",
       "    }\n",
       "</style>\n",
       "<table border=\"1\" class=\"dataframe\">\n",
       "  <thead>\n",
       "    <tr style=\"text-align: right;\">\n",
       "      <th></th>\n",
       "      <th>City</th>\n",
       "      <th>CO</th>\n",
       "    </tr>\n",
       "  </thead>\n",
       "  <tbody>\n",
       "    <tr>\n",
       "      <th>0</th>\n",
       "      <td>Ahmedabad</td>\n",
       "      <td>22.086567</td>\n",
       "    </tr>\n",
       "    <tr>\n",
       "      <th>1</th>\n",
       "      <td>Delhi</td>\n",
       "      <td>1.985213</td>\n",
       "    </tr>\n",
       "    <tr>\n",
       "      <th>2</th>\n",
       "      <td>Brajrajnagar</td>\n",
       "      <td>1.839643</td>\n",
       "    </tr>\n",
       "    <tr>\n",
       "      <th>3</th>\n",
       "      <td>Talcher</td>\n",
       "      <td>1.823871</td>\n",
       "    </tr>\n",
       "    <tr>\n",
       "      <th>4</th>\n",
       "      <td>Lucknow</td>\n",
       "      <td>1.752207</td>\n",
       "    </tr>\n",
       "    <tr>\n",
       "      <th>5</th>\n",
       "      <td>Bengaluru</td>\n",
       "      <td>1.672249</td>\n",
       "    </tr>\n",
       "    <tr>\n",
       "      <th>6</th>\n",
       "      <td>Ernakulam</td>\n",
       "      <td>1.627507</td>\n",
       "    </tr>\n",
       "    <tr>\n",
       "      <th>7</th>\n",
       "      <td>Patna</td>\n",
       "      <td>1.585729</td>\n",
       "    </tr>\n",
       "    <tr>\n",
       "      <th>8</th>\n",
       "      <td>Gurugram</td>\n",
       "      <td>1.336532</td>\n",
       "    </tr>\n",
       "    <tr>\n",
       "      <th>9</th>\n",
       "      <td>Kochi</td>\n",
       "      <td>1.294114</td>\n",
       "    </tr>\n",
       "  </tbody>\n",
       "</table>\n",
       "</div>"
      ],
      "text/plain": [
       "           City         CO\n",
       "0     Ahmedabad  22.086567\n",
       "1         Delhi   1.985213\n",
       "2  Brajrajnagar   1.839643\n",
       "3       Talcher   1.823871\n",
       "4       Lucknow   1.752207\n",
       "5     Bengaluru   1.672249\n",
       "6     Ernakulam   1.627507\n",
       "7         Patna   1.585729\n",
       "8      Gurugram   1.336532\n",
       "9         Kochi   1.294114"
      ]
     },
     "execution_count": 51,
     "metadata": {},
     "output_type": "execute_result"
    }
   ],
   "source": [
    "city_maximum_polution('CO')"
   ]
  },
  {
   "cell_type": "code",
   "execution_count": 52,
   "metadata": {
    "colab": {
     "base_uri": "https://localhost:8080/",
     "height": 359
    },
    "id": "mRneihfxYcpv",
    "outputId": "b7043379-0c71-44b1-c176-a33ca104845f"
   },
   "outputs": [
    {
     "data": {
      "text/html": [
       "<div>\n",
       "<style scoped>\n",
       "    .dataframe tbody tr th:only-of-type {\n",
       "        vertical-align: middle;\n",
       "    }\n",
       "\n",
       "    .dataframe tbody tr th {\n",
       "        vertical-align: top;\n",
       "    }\n",
       "\n",
       "    .dataframe thead th {\n",
       "        text-align: right;\n",
       "    }\n",
       "</style>\n",
       "<table border=\"1\" class=\"dataframe\">\n",
       "  <thead>\n",
       "    <tr style=\"text-align: right;\">\n",
       "      <th></th>\n",
       "      <th>City</th>\n",
       "      <th>NO2</th>\n",
       "    </tr>\n",
       "  </thead>\n",
       "  <tbody>\n",
       "    <tr>\n",
       "      <th>0</th>\n",
       "      <td>Ahmedabad</td>\n",
       "      <td>60.178827</td>\n",
       "    </tr>\n",
       "    <tr>\n",
       "      <th>1</th>\n",
       "      <td>Delhi</td>\n",
       "      <td>50.752862</td>\n",
       "    </tr>\n",
       "    <tr>\n",
       "      <th>2</th>\n",
       "      <td>Kolkata</td>\n",
       "      <td>40.802745</td>\n",
       "    </tr>\n",
       "    <tr>\n",
       "      <th>3</th>\n",
       "      <td>Patna</td>\n",
       "      <td>39.056714</td>\n",
       "    </tr>\n",
       "    <tr>\n",
       "      <th>4</th>\n",
       "      <td>Visakhapatnam</td>\n",
       "      <td>37.098761</td>\n",
       "    </tr>\n",
       "    <tr>\n",
       "      <th>5</th>\n",
       "      <td>Lucknow</td>\n",
       "      <td>33.883883</td>\n",
       "    </tr>\n",
       "    <tr>\n",
       "      <th>6</th>\n",
       "      <td>Jaipur</td>\n",
       "      <td>32.457662</td>\n",
       "    </tr>\n",
       "    <tr>\n",
       "      <th>7</th>\n",
       "      <td>Bhopal</td>\n",
       "      <td>31.373561</td>\n",
       "    </tr>\n",
       "    <tr>\n",
       "      <th>8</th>\n",
       "      <td>Hyderabad</td>\n",
       "      <td>28.504358</td>\n",
       "    </tr>\n",
       "    <tr>\n",
       "      <th>9</th>\n",
       "      <td>Bengaluru</td>\n",
       "      <td>28.308885</td>\n",
       "    </tr>\n",
       "  </tbody>\n",
       "</table>\n",
       "</div>"
      ],
      "text/plain": [
       "            City        NO2\n",
       "0      Ahmedabad  60.178827\n",
       "1          Delhi  50.752862\n",
       "2        Kolkata  40.802745\n",
       "3          Patna  39.056714\n",
       "4  Visakhapatnam  37.098761\n",
       "5        Lucknow  33.883883\n",
       "6         Jaipur  32.457662\n",
       "7         Bhopal  31.373561\n",
       "8      Hyderabad  28.504358\n",
       "9      Bengaluru  28.308885"
      ]
     },
     "execution_count": 52,
     "metadata": {},
     "output_type": "execute_result"
    }
   ],
   "source": [
    "city_maximum_polution('NO2')"
   ]
  },
  {
   "cell_type": "code",
   "execution_count": 53,
   "metadata": {
    "colab": {
     "base_uri": "https://localhost:8080/",
     "height": 359
    },
    "id": "thQGsVv8ZbwK",
    "outputId": "8c34cea5-fc34-4a01-be0a-31c4d0593959"
   },
   "outputs": [
    {
     "data": {
      "text/html": [
       "<div>\n",
       "<style scoped>\n",
       "    .dataframe tbody tr th:only-of-type {\n",
       "        vertical-align: middle;\n",
       "    }\n",
       "\n",
       "    .dataframe tbody tr th {\n",
       "        vertical-align: top;\n",
       "    }\n",
       "\n",
       "    .dataframe thead th {\n",
       "        text-align: right;\n",
       "    }\n",
       "</style>\n",
       "<table border=\"1\" class=\"dataframe\">\n",
       "  <thead>\n",
       "    <tr style=\"text-align: right;\">\n",
       "      <th></th>\n",
       "      <th>City</th>\n",
       "      <th>SO2</th>\n",
       "    </tr>\n",
       "  </thead>\n",
       "  <tbody>\n",
       "    <tr>\n",
       "      <th>0</th>\n",
       "      <td>Ahmedabad</td>\n",
       "      <td>54.726858</td>\n",
       "    </tr>\n",
       "    <tr>\n",
       "      <th>1</th>\n",
       "      <td>Jorapokhar</td>\n",
       "      <td>30.988784</td>\n",
       "    </tr>\n",
       "    <tr>\n",
       "      <th>2</th>\n",
       "      <td>Talcher</td>\n",
       "      <td>27.777138</td>\n",
       "    </tr>\n",
       "    <tr>\n",
       "      <th>3</th>\n",
       "      <td>Patna</td>\n",
       "      <td>23.810752</td>\n",
       "    </tr>\n",
       "    <tr>\n",
       "      <th>4</th>\n",
       "      <td>Kochi</td>\n",
       "      <td>17.729177</td>\n",
       "    </tr>\n",
       "    <tr>\n",
       "      <th>5</th>\n",
       "      <td>Delhi</td>\n",
       "      <td>15.841667</td>\n",
       "    </tr>\n",
       "    <tr>\n",
       "      <th>6</th>\n",
       "      <td>Mumbai</td>\n",
       "      <td>14.637362</td>\n",
       "    </tr>\n",
       "    <tr>\n",
       "      <th>7</th>\n",
       "      <td>Guwahati</td>\n",
       "      <td>14.572566</td>\n",
       "    </tr>\n",
       "    <tr>\n",
       "      <th>8</th>\n",
       "      <td>Amaravati</td>\n",
       "      <td>14.125679</td>\n",
       "    </tr>\n",
       "    <tr>\n",
       "      <th>9</th>\n",
       "      <td>Bhopal</td>\n",
       "      <td>13.060432</td>\n",
       "    </tr>\n",
       "  </tbody>\n",
       "</table>\n",
       "</div>"
      ],
      "text/plain": [
       "         City        SO2\n",
       "0   Ahmedabad  54.726858\n",
       "1  Jorapokhar  30.988784\n",
       "2     Talcher  27.777138\n",
       "3       Patna  23.810752\n",
       "4       Kochi  17.729177\n",
       "5       Delhi  15.841667\n",
       "6      Mumbai  14.637362\n",
       "7    Guwahati  14.572566\n",
       "8   Amaravati  14.125679\n",
       "9      Bhopal  13.060432"
      ]
     },
     "execution_count": 53,
     "metadata": {},
     "output_type": "execute_result"
    }
   ],
   "source": [
    "city_maximum_polution('SO2')"
   ]
  },
  {
   "cell_type": "code",
   "execution_count": 54,
   "metadata": {
    "colab": {
     "base_uri": "https://localhost:8080/",
     "height": 359
    },
    "id": "SHn_gf1fZb7m",
    "outputId": "a3ae2186-0220-4921-bddd-f8256d335c01"
   },
   "outputs": [
    {
     "data": {
      "text/html": [
       "<div>\n",
       "<style scoped>\n",
       "    .dataframe tbody tr th:only-of-type {\n",
       "        vertical-align: middle;\n",
       "    }\n",
       "\n",
       "    .dataframe tbody tr th {\n",
       "        vertical-align: top;\n",
       "    }\n",
       "\n",
       "    .dataframe thead th {\n",
       "        text-align: right;\n",
       "    }\n",
       "</style>\n",
       "<table border=\"1\" class=\"dataframe\">\n",
       "  <thead>\n",
       "    <tr style=\"text-align: right;\">\n",
       "      <th></th>\n",
       "      <th>City</th>\n",
       "      <th>BTX</th>\n",
       "    </tr>\n",
       "  </thead>\n",
       "  <tbody>\n",
       "    <tr>\n",
       "      <th>0</th>\n",
       "      <td>Shillong</td>\n",
       "      <td>102.551366</td>\n",
       "    </tr>\n",
       "    <tr>\n",
       "      <th>1</th>\n",
       "      <td>Ahmedabad</td>\n",
       "      <td>41.397616</td>\n",
       "    </tr>\n",
       "    <tr>\n",
       "      <th>2</th>\n",
       "      <td>Kolkata</td>\n",
       "      <td>29.237918</td>\n",
       "    </tr>\n",
       "    <tr>\n",
       "      <th>3</th>\n",
       "      <td>Delhi</td>\n",
       "      <td>21.709535</td>\n",
       "    </tr>\n",
       "    <tr>\n",
       "      <th>4</th>\n",
       "      <td>Patna</td>\n",
       "      <td>19.653249</td>\n",
       "    </tr>\n",
       "    <tr>\n",
       "      <th>5</th>\n",
       "      <td>Aizawl</td>\n",
       "      <td>17.673243</td>\n",
       "    </tr>\n",
       "    <tr>\n",
       "      <th>6</th>\n",
       "      <td>Visakhapatnam</td>\n",
       "      <td>17.235909</td>\n",
       "    </tr>\n",
       "    <tr>\n",
       "      <th>7</th>\n",
       "      <td>Amritsar</td>\n",
       "      <td>12.691936</td>\n",
       "    </tr>\n",
       "    <tr>\n",
       "      <th>8</th>\n",
       "      <td>Hyderabad</td>\n",
       "      <td>10.220410</td>\n",
       "    </tr>\n",
       "    <tr>\n",
       "      <th>9</th>\n",
       "      <td>Chandigarh</td>\n",
       "      <td>8.959298</td>\n",
       "    </tr>\n",
       "  </tbody>\n",
       "</table>\n",
       "</div>"
      ],
      "text/plain": [
       "            City         BTX\n",
       "0       Shillong  102.551366\n",
       "1      Ahmedabad   41.397616\n",
       "2        Kolkata   29.237918\n",
       "3          Delhi   21.709535\n",
       "4          Patna   19.653249\n",
       "5         Aizawl   17.673243\n",
       "6  Visakhapatnam   17.235909\n",
       "7       Amritsar   12.691936\n",
       "8      Hyderabad   10.220410\n",
       "9     Chandigarh    8.959298"
      ]
     },
     "execution_count": 54,
     "metadata": {},
     "output_type": "execute_result"
    }
   ],
   "source": [
    "city_maximum_polution('BTX')"
   ]
  },
  {
   "cell_type": "markdown",
   "metadata": {
    "id": "MOCJpw2YZ3Sp"
   },
   "source": [
    "Looking at these charts, It can be concluded that ***Ahmedabad, Delhi and Patna ***have higher pollutant concentrations and higher AQI\n"
   ]
  },
  {
   "cell_type": "markdown",
   "metadata": {
    "id": "XUUWaDNNasiI"
   },
   "source": [
    "# Polution prediction of Ahmedabad"
   ]
  },
  {
   "cell_type": "code",
   "execution_count": 55,
   "metadata": {
    "id": "iG3z3pC7ac7u"
   },
   "outputs": [],
   "source": [
    "df_ahm = data.loc[data['City']== 'Ahmedabad']"
   ]
  },
  {
   "cell_type": "code",
   "execution_count": 56,
   "metadata": {
    "colab": {
     "base_uri": "https://localhost:8080/",
     "height": 289
    },
    "id": "Zctqttu_a9vp",
    "outputId": "90bba9af-eb23-4c5e-eed6-d3e81fff6553"
   },
   "outputs": [
    {
     "data": {
      "text/html": [
       "<div>\n",
       "<style scoped>\n",
       "    .dataframe tbody tr th:only-of-type {\n",
       "        vertical-align: middle;\n",
       "    }\n",
       "\n",
       "    .dataframe tbody tr th {\n",
       "        vertical-align: top;\n",
       "    }\n",
       "\n",
       "    .dataframe thead th {\n",
       "        text-align: right;\n",
       "    }\n",
       "</style>\n",
       "<table border=\"1\" class=\"dataframe\">\n",
       "  <thead>\n",
       "    <tr style=\"text-align: right;\">\n",
       "      <th></th>\n",
       "      <th>City</th>\n",
       "      <th>Date</th>\n",
       "      <th>PM2.5</th>\n",
       "      <th>PM10</th>\n",
       "      <th>NO</th>\n",
       "      <th>NO2</th>\n",
       "      <th>NOx</th>\n",
       "      <th>NH3</th>\n",
       "      <th>CO</th>\n",
       "      <th>SO2</th>\n",
       "      <th>O3</th>\n",
       "      <th>AQI</th>\n",
       "      <th>AQI_Bucket</th>\n",
       "      <th>BTX</th>\n",
       "      <th>Year</th>\n",
       "    </tr>\n",
       "  </thead>\n",
       "  <tbody>\n",
       "    <tr>\n",
       "      <th>28</th>\n",
       "      <td>Ahmedabad</td>\n",
       "      <td>2015-01-29</td>\n",
       "      <td>83.13</td>\n",
       "      <td>118.127103</td>\n",
       "      <td>6.93</td>\n",
       "      <td>28.71</td>\n",
       "      <td>33.72</td>\n",
       "      <td>23.483476</td>\n",
       "      <td>6.93</td>\n",
       "      <td>49.52</td>\n",
       "      <td>59.76</td>\n",
       "      <td>209.0</td>\n",
       "      <td>Poor</td>\n",
       "      <td>3.16</td>\n",
       "      <td>2015</td>\n",
       "    </tr>\n",
       "    <tr>\n",
       "      <th>29</th>\n",
       "      <td>Ahmedabad</td>\n",
       "      <td>2015-01-30</td>\n",
       "      <td>79.84</td>\n",
       "      <td>118.127103</td>\n",
       "      <td>13.85</td>\n",
       "      <td>28.68</td>\n",
       "      <td>41.08</td>\n",
       "      <td>23.483476</td>\n",
       "      <td>13.85</td>\n",
       "      <td>48.49</td>\n",
       "      <td>97.07</td>\n",
       "      <td>328.0</td>\n",
       "      <td>Very Poor</td>\n",
       "      <td>4.85</td>\n",
       "      <td>2015</td>\n",
       "    </tr>\n",
       "    <tr>\n",
       "      <th>30</th>\n",
       "      <td>Ahmedabad</td>\n",
       "      <td>2015-01-31</td>\n",
       "      <td>94.52</td>\n",
       "      <td>118.127103</td>\n",
       "      <td>24.39</td>\n",
       "      <td>32.66</td>\n",
       "      <td>52.61</td>\n",
       "      <td>23.483476</td>\n",
       "      <td>24.39</td>\n",
       "      <td>67.39</td>\n",
       "      <td>111.33</td>\n",
       "      <td>514.0</td>\n",
       "      <td>Severe</td>\n",
       "      <td>7.92</td>\n",
       "      <td>2015</td>\n",
       "    </tr>\n",
       "    <tr>\n",
       "      <th>31</th>\n",
       "      <td>Ahmedabad</td>\n",
       "      <td>2015-02-01</td>\n",
       "      <td>135.99</td>\n",
       "      <td>118.127103</td>\n",
       "      <td>43.48</td>\n",
       "      <td>42.08</td>\n",
       "      <td>84.57</td>\n",
       "      <td>23.483476</td>\n",
       "      <td>43.48</td>\n",
       "      <td>75.23</td>\n",
       "      <td>102.70</td>\n",
       "      <td>782.0</td>\n",
       "      <td>Severe</td>\n",
       "      <td>26.31</td>\n",
       "      <td>2015</td>\n",
       "    </tr>\n",
       "    <tr>\n",
       "      <th>32</th>\n",
       "      <td>Ahmedabad</td>\n",
       "      <td>2015-02-02</td>\n",
       "      <td>178.33</td>\n",
       "      <td>118.127103</td>\n",
       "      <td>54.56</td>\n",
       "      <td>35.31</td>\n",
       "      <td>72.80</td>\n",
       "      <td>23.483476</td>\n",
       "      <td>54.56</td>\n",
       "      <td>55.04</td>\n",
       "      <td>107.38</td>\n",
       "      <td>914.0</td>\n",
       "      <td>Severe</td>\n",
       "      <td>36.13</td>\n",
       "      <td>2015</td>\n",
       "    </tr>\n",
       "  </tbody>\n",
       "</table>\n",
       "</div>"
      ],
      "text/plain": [
       "         City       Date   PM2.5        PM10     NO    NO2    NOx        NH3  \\\n",
       "28  Ahmedabad 2015-01-29   83.13  118.127103   6.93  28.71  33.72  23.483476   \n",
       "29  Ahmedabad 2015-01-30   79.84  118.127103  13.85  28.68  41.08  23.483476   \n",
       "30  Ahmedabad 2015-01-31   94.52  118.127103  24.39  32.66  52.61  23.483476   \n",
       "31  Ahmedabad 2015-02-01  135.99  118.127103  43.48  42.08  84.57  23.483476   \n",
       "32  Ahmedabad 2015-02-02  178.33  118.127103  54.56  35.31  72.80  23.483476   \n",
       "\n",
       "       CO    SO2      O3    AQI AQI_Bucket    BTX  Year  \n",
       "28   6.93  49.52   59.76  209.0       Poor   3.16  2015  \n",
       "29  13.85  48.49   97.07  328.0  Very Poor   4.85  2015  \n",
       "30  24.39  67.39  111.33  514.0     Severe   7.92  2015  \n",
       "31  43.48  75.23  102.70  782.0     Severe  26.31  2015  \n",
       "32  54.56  55.04  107.38  914.0     Severe  36.13  2015  "
      ]
     },
     "execution_count": 56,
     "metadata": {},
     "output_type": "execute_result"
    }
   ],
   "source": [
    "df_ahm.head()"
   ]
  },
  {
   "cell_type": "code",
   "execution_count": 57,
   "metadata": {
    "colab": {
     "base_uri": "https://localhost:8080/",
     "height": 317
    },
    "id": "zn-7oE47bIzQ",
    "outputId": "dddec024-2bcd-4233-ea22-b9f481b4b680"
   },
   "outputs": [
    {
     "data": {
      "text/html": [
       "<div>\n",
       "<style scoped>\n",
       "    .dataframe tbody tr th:only-of-type {\n",
       "        vertical-align: middle;\n",
       "    }\n",
       "\n",
       "    .dataframe tbody tr th {\n",
       "        vertical-align: top;\n",
       "    }\n",
       "\n",
       "    .dataframe thead th {\n",
       "        text-align: right;\n",
       "    }\n",
       "</style>\n",
       "<table border=\"1\" class=\"dataframe\">\n",
       "  <thead>\n",
       "    <tr style=\"text-align: right;\">\n",
       "      <th></th>\n",
       "      <th>PM2.5</th>\n",
       "      <th>PM10</th>\n",
       "      <th>NO</th>\n",
       "      <th>NO2</th>\n",
       "      <th>NOx</th>\n",
       "      <th>NH3</th>\n",
       "      <th>CO</th>\n",
       "      <th>SO2</th>\n",
       "      <th>O3</th>\n",
       "      <th>AQI</th>\n",
       "      <th>BTX</th>\n",
       "      <th>Year</th>\n",
       "    </tr>\n",
       "  </thead>\n",
       "  <tbody>\n",
       "    <tr>\n",
       "      <th>count</th>\n",
       "      <td>1334.000000</td>\n",
       "      <td>1334.000000</td>\n",
       "      <td>1334.000000</td>\n",
       "      <td>1334.000000</td>\n",
       "      <td>1334.000000</td>\n",
       "      <td>1.334000e+03</td>\n",
       "      <td>1334.000000</td>\n",
       "      <td>1334.000000</td>\n",
       "      <td>1334.000000</td>\n",
       "      <td>1334.000000</td>\n",
       "      <td>1334.000000</td>\n",
       "      <td>1334.000000</td>\n",
       "    </tr>\n",
       "    <tr>\n",
       "      <th>mean</th>\n",
       "      <td>67.871762</td>\n",
       "      <td>116.537830</td>\n",
       "      <td>22.407139</td>\n",
       "      <td>60.178827</td>\n",
       "      <td>47.852000</td>\n",
       "      <td>2.348348e+01</td>\n",
       "      <td>22.086567</td>\n",
       "      <td>54.726858</td>\n",
       "      <td>38.923472</td>\n",
       "      <td>452.122939</td>\n",
       "      <td>41.397616</td>\n",
       "      <td>2017.709145</td>\n",
       "    </tr>\n",
       "    <tr>\n",
       "      <th>std</th>\n",
       "      <td>39.387708</td>\n",
       "      <td>21.282185</td>\n",
       "      <td>20.992805</td>\n",
       "      <td>47.431654</td>\n",
       "      <td>33.502462</td>\n",
       "      <td>3.554046e-15</td>\n",
       "      <td>21.253881</td>\n",
       "      <td>40.020537</td>\n",
       "      <td>21.904780</td>\n",
       "      <td>311.729553</td>\n",
       "      <td>40.313886</td>\n",
       "      <td>1.698848</td>\n",
       "    </tr>\n",
       "    <tr>\n",
       "      <th>min</th>\n",
       "      <td>3.040000</td>\n",
       "      <td>11.500000</td>\n",
       "      <td>0.060000</td>\n",
       "      <td>0.080000</td>\n",
       "      <td>2.750000</td>\n",
       "      <td>2.348348e+01</td>\n",
       "      <td>0.060000</td>\n",
       "      <td>0.520000</td>\n",
       "      <td>0.380000</td>\n",
       "      <td>48.000000</td>\n",
       "      <td>0.000000</td>\n",
       "      <td>2015.000000</td>\n",
       "    </tr>\n",
       "    <tr>\n",
       "      <th>25%</th>\n",
       "      <td>39.432500</td>\n",
       "      <td>118.127103</td>\n",
       "      <td>7.885000</td>\n",
       "      <td>21.327500</td>\n",
       "      <td>22.397500</td>\n",
       "      <td>2.348348e+01</td>\n",
       "      <td>7.562500</td>\n",
       "      <td>19.510000</td>\n",
       "      <td>23.600000</td>\n",
       "      <td>231.000000</td>\n",
       "      <td>15.945000</td>\n",
       "      <td>2016.000000</td>\n",
       "    </tr>\n",
       "    <tr>\n",
       "      <th>50%</th>\n",
       "      <td>58.465000</td>\n",
       "      <td>118.127103</td>\n",
       "      <td>16.505000</td>\n",
       "      <td>48.655000</td>\n",
       "      <td>40.240000</td>\n",
       "      <td>2.348348e+01</td>\n",
       "      <td>16.280000</td>\n",
       "      <td>45.840000</td>\n",
       "      <td>37.955000</td>\n",
       "      <td>384.500000</td>\n",
       "      <td>34.710000</td>\n",
       "      <td>2018.000000</td>\n",
       "    </tr>\n",
       "    <tr>\n",
       "      <th>75%</th>\n",
       "      <td>87.120000</td>\n",
       "      <td>118.127103</td>\n",
       "      <td>29.857500</td>\n",
       "      <td>85.025000</td>\n",
       "      <td>61.152500</td>\n",
       "      <td>2.348348e+01</td>\n",
       "      <td>29.857500</td>\n",
       "      <td>79.747500</td>\n",
       "      <td>52.355000</td>\n",
       "      <td>542.750000</td>\n",
       "      <td>48.167500</td>\n",
       "      <td>2019.000000</td>\n",
       "    </tr>\n",
       "    <tr>\n",
       "      <th>max</th>\n",
       "      <td>381.690000</td>\n",
       "      <td>335.860000</td>\n",
       "      <td>175.810000</td>\n",
       "      <td>292.020000</td>\n",
       "      <td>246.030000</td>\n",
       "      <td>2.348348e+01</td>\n",
       "      <td>175.810000</td>\n",
       "      <td>186.080000</td>\n",
       "      <td>162.430000</td>\n",
       "      <td>2049.000000</td>\n",
       "      <td>486.790000</td>\n",
       "      <td>2020.000000</td>\n",
       "    </tr>\n",
       "  </tbody>\n",
       "</table>\n",
       "</div>"
      ],
      "text/plain": [
       "             PM2.5         PM10           NO          NO2          NOx  \\\n",
       "count  1334.000000  1334.000000  1334.000000  1334.000000  1334.000000   \n",
       "mean     67.871762   116.537830    22.407139    60.178827    47.852000   \n",
       "std      39.387708    21.282185    20.992805    47.431654    33.502462   \n",
       "min       3.040000    11.500000     0.060000     0.080000     2.750000   \n",
       "25%      39.432500   118.127103     7.885000    21.327500    22.397500   \n",
       "50%      58.465000   118.127103    16.505000    48.655000    40.240000   \n",
       "75%      87.120000   118.127103    29.857500    85.025000    61.152500   \n",
       "max     381.690000   335.860000   175.810000   292.020000   246.030000   \n",
       "\n",
       "                NH3           CO          SO2           O3          AQI  \\\n",
       "count  1.334000e+03  1334.000000  1334.000000  1334.000000  1334.000000   \n",
       "mean   2.348348e+01    22.086567    54.726858    38.923472   452.122939   \n",
       "std    3.554046e-15    21.253881    40.020537    21.904780   311.729553   \n",
       "min    2.348348e+01     0.060000     0.520000     0.380000    48.000000   \n",
       "25%    2.348348e+01     7.562500    19.510000    23.600000   231.000000   \n",
       "50%    2.348348e+01    16.280000    45.840000    37.955000   384.500000   \n",
       "75%    2.348348e+01    29.857500    79.747500    52.355000   542.750000   \n",
       "max    2.348348e+01   175.810000   186.080000   162.430000  2049.000000   \n",
       "\n",
       "               BTX         Year  \n",
       "count  1334.000000  1334.000000  \n",
       "mean     41.397616  2017.709145  \n",
       "std      40.313886     1.698848  \n",
       "min       0.000000  2015.000000  \n",
       "25%      15.945000  2016.000000  \n",
       "50%      34.710000  2018.000000  \n",
       "75%      48.167500  2019.000000  \n",
       "max     486.790000  2020.000000  "
      ]
     },
     "execution_count": 57,
     "metadata": {},
     "output_type": "execute_result"
    }
   ],
   "source": [
    "df_ahm.describe()"
   ]
  },
  {
   "cell_type": "code",
   "execution_count": 58,
   "metadata": {
    "colab": {
     "base_uri": "https://localhost:8080/"
    },
    "id": "y7vgpqKzb4uM",
    "outputId": "058e6b33-9154-4aba-956c-8ca2b2c2509f"
   },
   "outputs": [
    {
     "name": "stderr",
     "output_type": "stream",
     "text": [
      "<ipython-input-58-cb427a773fa2>:1: SettingWithCopyWarning: \n",
      "A value is trying to be set on a copy of a slice from a DataFrame.\n",
      "Try using .loc[row_indexer,col_indexer] = value instead\n",
      "\n",
      "See the caveats in the documentation: https://pandas.pydata.org/pandas-docs/stable/user_guide/indexing.html#returning-a-view-versus-a-copy\n",
      "  df_ahm['Year'] = df_ahm['Date'].dt.year\n"
     ]
    }
   ],
   "source": [
    "df_ahm['Year'] = df_ahm['Date'].dt.year"
   ]
  },
  {
   "cell_type": "code",
   "execution_count": 59,
   "metadata": {
    "colab": {
     "base_uri": "https://localhost:8080/"
    },
    "id": "YuuetwAMb4wv",
    "outputId": "a82204b4-ba95-4aad-8d9c-6b0ef99432e0"
   },
   "outputs": [
    {
     "name": "stderr",
     "output_type": "stream",
     "text": [
      "<ipython-input-59-a6744278ff78>:1: SettingWithCopyWarning: \n",
      "A value is trying to be set on a copy of a slice from a DataFrame.\n",
      "Try using .loc[row_indexer,col_indexer] = value instead\n",
      "\n",
      "See the caveats in the documentation: https://pandas.pydata.org/pandas-docs/stable/user_guide/indexing.html#returning-a-view-versus-a-copy\n",
      "  df_ahm[\"Day\"] = df_ahm[\"Date\"].dt.day\n"
     ]
    }
   ],
   "source": [
    "df_ahm[\"Day\"] = df_ahm[\"Date\"].dt.day"
   ]
  },
  {
   "cell_type": "code",
   "execution_count": 60,
   "metadata": {
    "colab": {
     "base_uri": "https://localhost:8080/"
    },
    "id": "eZt42SQfb40m",
    "outputId": "ee60ef1c-01ba-4235-fd73-70f6fa04c6ad"
   },
   "outputs": [
    {
     "name": "stderr",
     "output_type": "stream",
     "text": [
      "<ipython-input-60-cbd7935db0a7>:1: SettingWithCopyWarning: \n",
      "A value is trying to be set on a copy of a slice from a DataFrame.\n",
      "Try using .loc[row_indexer,col_indexer] = value instead\n",
      "\n",
      "See the caveats in the documentation: https://pandas.pydata.org/pandas-docs/stable/user_guide/indexing.html#returning-a-view-versus-a-copy\n",
      "  df_ahm[\"Month\"] = df_ahm[\"Date\"].dt.month\n"
     ]
    }
   ],
   "source": [
    "df_ahm[\"Month\"] = df_ahm[\"Date\"].dt.month"
   ]
  },
  {
   "cell_type": "code",
   "execution_count": 61,
   "metadata": {
    "id": "8KPa2CVpb5Ie"
   },
   "outputs": [],
   "source": [
    "df_ahm = df_ahm.drop('Date',axis=1)\n",
    "df_ahm = df_ahm.drop('City',axis=1)"
   ]
  },
  {
   "cell_type": "code",
   "execution_count": 62,
   "metadata": {
    "colab": {
     "base_uri": "https://localhost:8080/",
     "height": 204
    },
    "id": "CgYYnT-ld7Kh",
    "outputId": "12bcb2fb-7353-44b2-cdee-f2bb14eef2bf"
   },
   "outputs": [
    {
     "data": {
      "text/html": [
       "<div>\n",
       "<style scoped>\n",
       "    .dataframe tbody tr th:only-of-type {\n",
       "        vertical-align: middle;\n",
       "    }\n",
       "\n",
       "    .dataframe tbody tr th {\n",
       "        vertical-align: top;\n",
       "    }\n",
       "\n",
       "    .dataframe thead th {\n",
       "        text-align: right;\n",
       "    }\n",
       "</style>\n",
       "<table border=\"1\" class=\"dataframe\">\n",
       "  <thead>\n",
       "    <tr style=\"text-align: right;\">\n",
       "      <th></th>\n",
       "      <th>PM2.5</th>\n",
       "      <th>PM10</th>\n",
       "      <th>NO</th>\n",
       "      <th>NO2</th>\n",
       "      <th>NOx</th>\n",
       "      <th>NH3</th>\n",
       "      <th>CO</th>\n",
       "      <th>SO2</th>\n",
       "      <th>O3</th>\n",
       "      <th>AQI</th>\n",
       "      <th>AQI_Bucket</th>\n",
       "      <th>BTX</th>\n",
       "      <th>Year</th>\n",
       "      <th>Day</th>\n",
       "      <th>Month</th>\n",
       "    </tr>\n",
       "  </thead>\n",
       "  <tbody>\n",
       "    <tr>\n",
       "      <th>28</th>\n",
       "      <td>83.13</td>\n",
       "      <td>118.127103</td>\n",
       "      <td>6.93</td>\n",
       "      <td>28.71</td>\n",
       "      <td>33.72</td>\n",
       "      <td>23.483476</td>\n",
       "      <td>6.93</td>\n",
       "      <td>49.52</td>\n",
       "      <td>59.76</td>\n",
       "      <td>209.0</td>\n",
       "      <td>Poor</td>\n",
       "      <td>3.16</td>\n",
       "      <td>2015</td>\n",
       "      <td>29</td>\n",
       "      <td>1</td>\n",
       "    </tr>\n",
       "    <tr>\n",
       "      <th>29</th>\n",
       "      <td>79.84</td>\n",
       "      <td>118.127103</td>\n",
       "      <td>13.85</td>\n",
       "      <td>28.68</td>\n",
       "      <td>41.08</td>\n",
       "      <td>23.483476</td>\n",
       "      <td>13.85</td>\n",
       "      <td>48.49</td>\n",
       "      <td>97.07</td>\n",
       "      <td>328.0</td>\n",
       "      <td>Very Poor</td>\n",
       "      <td>4.85</td>\n",
       "      <td>2015</td>\n",
       "      <td>30</td>\n",
       "      <td>1</td>\n",
       "    </tr>\n",
       "    <tr>\n",
       "      <th>30</th>\n",
       "      <td>94.52</td>\n",
       "      <td>118.127103</td>\n",
       "      <td>24.39</td>\n",
       "      <td>32.66</td>\n",
       "      <td>52.61</td>\n",
       "      <td>23.483476</td>\n",
       "      <td>24.39</td>\n",
       "      <td>67.39</td>\n",
       "      <td>111.33</td>\n",
       "      <td>514.0</td>\n",
       "      <td>Severe</td>\n",
       "      <td>7.92</td>\n",
       "      <td>2015</td>\n",
       "      <td>31</td>\n",
       "      <td>1</td>\n",
       "    </tr>\n",
       "    <tr>\n",
       "      <th>31</th>\n",
       "      <td>135.99</td>\n",
       "      <td>118.127103</td>\n",
       "      <td>43.48</td>\n",
       "      <td>42.08</td>\n",
       "      <td>84.57</td>\n",
       "      <td>23.483476</td>\n",
       "      <td>43.48</td>\n",
       "      <td>75.23</td>\n",
       "      <td>102.70</td>\n",
       "      <td>782.0</td>\n",
       "      <td>Severe</td>\n",
       "      <td>26.31</td>\n",
       "      <td>2015</td>\n",
       "      <td>1</td>\n",
       "      <td>2</td>\n",
       "    </tr>\n",
       "    <tr>\n",
       "      <th>32</th>\n",
       "      <td>178.33</td>\n",
       "      <td>118.127103</td>\n",
       "      <td>54.56</td>\n",
       "      <td>35.31</td>\n",
       "      <td>72.80</td>\n",
       "      <td>23.483476</td>\n",
       "      <td>54.56</td>\n",
       "      <td>55.04</td>\n",
       "      <td>107.38</td>\n",
       "      <td>914.0</td>\n",
       "      <td>Severe</td>\n",
       "      <td>36.13</td>\n",
       "      <td>2015</td>\n",
       "      <td>2</td>\n",
       "      <td>2</td>\n",
       "    </tr>\n",
       "  </tbody>\n",
       "</table>\n",
       "</div>"
      ],
      "text/plain": [
       "     PM2.5        PM10     NO    NO2    NOx        NH3     CO    SO2      O3  \\\n",
       "28   83.13  118.127103   6.93  28.71  33.72  23.483476   6.93  49.52   59.76   \n",
       "29   79.84  118.127103  13.85  28.68  41.08  23.483476  13.85  48.49   97.07   \n",
       "30   94.52  118.127103  24.39  32.66  52.61  23.483476  24.39  67.39  111.33   \n",
       "31  135.99  118.127103  43.48  42.08  84.57  23.483476  43.48  75.23  102.70   \n",
       "32  178.33  118.127103  54.56  35.31  72.80  23.483476  54.56  55.04  107.38   \n",
       "\n",
       "      AQI AQI_Bucket    BTX  Year  Day  Month  \n",
       "28  209.0       Poor   3.16  2015   29      1  \n",
       "29  328.0  Very Poor   4.85  2015   30      1  \n",
       "30  514.0     Severe   7.92  2015   31      1  \n",
       "31  782.0     Severe  26.31  2015    1      2  \n",
       "32  914.0     Severe  36.13  2015    2      2  "
      ]
     },
     "execution_count": 62,
     "metadata": {},
     "output_type": "execute_result"
    }
   ],
   "source": [
    "df_ahm.head()"
   ]
  },
  {
   "cell_type": "markdown",
   "metadata": {
    "id": "WTpjJgXZShcc"
   },
   "source": [
    "# Training the entire data"
   ]
  },
  {
   "cell_type": "code",
   "execution_count": 63,
   "metadata": {
    "colab": {
     "base_uri": "https://localhost:8080/",
     "height": 417
    },
    "id": "TvmLBEVduMan",
    "outputId": "7df71dfb-3400-46f6-a3eb-588aa3adc54d"
   },
   "outputs": [
    {
     "data": {
      "text/html": [
       "<div>\n",
       "<style scoped>\n",
       "    .dataframe tbody tr th:only-of-type {\n",
       "        vertical-align: middle;\n",
       "    }\n",
       "\n",
       "    .dataframe tbody tr th {\n",
       "        vertical-align: top;\n",
       "    }\n",
       "\n",
       "    .dataframe thead th {\n",
       "        text-align: right;\n",
       "    }\n",
       "</style>\n",
       "<table border=\"1\" class=\"dataframe\">\n",
       "  <thead>\n",
       "    <tr style=\"text-align: right;\">\n",
       "      <th></th>\n",
       "      <th>PM2.5</th>\n",
       "      <th>PM10</th>\n",
       "      <th>NO</th>\n",
       "      <th>NO2</th>\n",
       "      <th>NOx</th>\n",
       "      <th>NH3</th>\n",
       "      <th>CO</th>\n",
       "      <th>SO2</th>\n",
       "      <th>O3</th>\n",
       "      <th>AQI</th>\n",
       "      <th>AQI_Bucket</th>\n",
       "      <th>BTX</th>\n",
       "      <th>Year</th>\n",
       "      <th>Day</th>\n",
       "      <th>Month</th>\n",
       "    </tr>\n",
       "  </thead>\n",
       "  <tbody>\n",
       "    <tr>\n",
       "      <th>28</th>\n",
       "      <td>83.13</td>\n",
       "      <td>118.127103</td>\n",
       "      <td>6.93</td>\n",
       "      <td>28.71</td>\n",
       "      <td>33.72</td>\n",
       "      <td>23.483476</td>\n",
       "      <td>6.93</td>\n",
       "      <td>49.52</td>\n",
       "      <td>59.76</td>\n",
       "      <td>209.0</td>\n",
       "      <td>Poor</td>\n",
       "      <td>3.16</td>\n",
       "      <td>2015</td>\n",
       "      <td>29</td>\n",
       "      <td>1</td>\n",
       "    </tr>\n",
       "    <tr>\n",
       "      <th>29</th>\n",
       "      <td>79.84</td>\n",
       "      <td>118.127103</td>\n",
       "      <td>13.85</td>\n",
       "      <td>28.68</td>\n",
       "      <td>41.08</td>\n",
       "      <td>23.483476</td>\n",
       "      <td>13.85</td>\n",
       "      <td>48.49</td>\n",
       "      <td>97.07</td>\n",
       "      <td>328.0</td>\n",
       "      <td>Very Poor</td>\n",
       "      <td>4.85</td>\n",
       "      <td>2015</td>\n",
       "      <td>30</td>\n",
       "      <td>1</td>\n",
       "    </tr>\n",
       "    <tr>\n",
       "      <th>30</th>\n",
       "      <td>94.52</td>\n",
       "      <td>118.127103</td>\n",
       "      <td>24.39</td>\n",
       "      <td>32.66</td>\n",
       "      <td>52.61</td>\n",
       "      <td>23.483476</td>\n",
       "      <td>24.39</td>\n",
       "      <td>67.39</td>\n",
       "      <td>111.33</td>\n",
       "      <td>514.0</td>\n",
       "      <td>Severe</td>\n",
       "      <td>7.92</td>\n",
       "      <td>2015</td>\n",
       "      <td>31</td>\n",
       "      <td>1</td>\n",
       "    </tr>\n",
       "    <tr>\n",
       "      <th>31</th>\n",
       "      <td>135.99</td>\n",
       "      <td>118.127103</td>\n",
       "      <td>43.48</td>\n",
       "      <td>42.08</td>\n",
       "      <td>84.57</td>\n",
       "      <td>23.483476</td>\n",
       "      <td>43.48</td>\n",
       "      <td>75.23</td>\n",
       "      <td>102.70</td>\n",
       "      <td>782.0</td>\n",
       "      <td>Severe</td>\n",
       "      <td>26.31</td>\n",
       "      <td>2015</td>\n",
       "      <td>1</td>\n",
       "      <td>2</td>\n",
       "    </tr>\n",
       "    <tr>\n",
       "      <th>32</th>\n",
       "      <td>178.33</td>\n",
       "      <td>118.127103</td>\n",
       "      <td>54.56</td>\n",
       "      <td>35.31</td>\n",
       "      <td>72.80</td>\n",
       "      <td>23.483476</td>\n",
       "      <td>54.56</td>\n",
       "      <td>55.04</td>\n",
       "      <td>107.38</td>\n",
       "      <td>914.0</td>\n",
       "      <td>Severe</td>\n",
       "      <td>36.13</td>\n",
       "      <td>2015</td>\n",
       "      <td>2</td>\n",
       "      <td>2</td>\n",
       "    </tr>\n",
       "    <tr>\n",
       "      <th>...</th>\n",
       "      <td>...</td>\n",
       "      <td>...</td>\n",
       "      <td>...</td>\n",
       "      <td>...</td>\n",
       "      <td>...</td>\n",
       "      <td>...</td>\n",
       "      <td>...</td>\n",
       "      <td>...</td>\n",
       "      <td>...</td>\n",
       "      <td>...</td>\n",
       "      <td>...</td>\n",
       "      <td>...</td>\n",
       "      <td>...</td>\n",
       "      <td>...</td>\n",
       "      <td>...</td>\n",
       "    </tr>\n",
       "    <tr>\n",
       "      <th>2004</th>\n",
       "      <td>62.12</td>\n",
       "      <td>118.670000</td>\n",
       "      <td>9.18</td>\n",
       "      <td>56.35</td>\n",
       "      <td>19.86</td>\n",
       "      <td>23.483476</td>\n",
       "      <td>0.49</td>\n",
       "      <td>12.44</td>\n",
       "      <td>68.05</td>\n",
       "      <td>92.0</td>\n",
       "      <td>Satisfactory</td>\n",
       "      <td>40.70</td>\n",
       "      <td>2020</td>\n",
       "      <td>27</td>\n",
       "      <td>6</td>\n",
       "    </tr>\n",
       "    <tr>\n",
       "      <th>2005</th>\n",
       "      <td>31.57</td>\n",
       "      <td>118.127103</td>\n",
       "      <td>6.37</td>\n",
       "      <td>23.99</td>\n",
       "      <td>16.40</td>\n",
       "      <td>23.483476</td>\n",
       "      <td>0.52</td>\n",
       "      <td>11.01</td>\n",
       "      <td>26.34</td>\n",
       "      <td>82.0</td>\n",
       "      <td>Satisfactory</td>\n",
       "      <td>52.29</td>\n",
       "      <td>2020</td>\n",
       "      <td>28</td>\n",
       "      <td>6</td>\n",
       "    </tr>\n",
       "    <tr>\n",
       "      <th>2006</th>\n",
       "      <td>29.75</td>\n",
       "      <td>127.980000</td>\n",
       "      <td>9.06</td>\n",
       "      <td>25.15</td>\n",
       "      <td>18.92</td>\n",
       "      <td>23.483476</td>\n",
       "      <td>0.67</td>\n",
       "      <td>12.10</td>\n",
       "      <td>34.99</td>\n",
       "      <td>74.0</td>\n",
       "      <td>Satisfactory</td>\n",
       "      <td>62.39</td>\n",
       "      <td>2020</td>\n",
       "      <td>29</td>\n",
       "      <td>6</td>\n",
       "    </tr>\n",
       "    <tr>\n",
       "      <th>2007</th>\n",
       "      <td>40.02</td>\n",
       "      <td>121.100000</td>\n",
       "      <td>7.09</td>\n",
       "      <td>58.92</td>\n",
       "      <td>33.41</td>\n",
       "      <td>23.483476</td>\n",
       "      <td>0.73</td>\n",
       "      <td>16.39</td>\n",
       "      <td>41.64</td>\n",
       "      <td>98.0</td>\n",
       "      <td>Satisfactory</td>\n",
       "      <td>46.66</td>\n",
       "      <td>2020</td>\n",
       "      <td>30</td>\n",
       "      <td>6</td>\n",
       "    </tr>\n",
       "    <tr>\n",
       "      <th>2008</th>\n",
       "      <td>37.63</td>\n",
       "      <td>118.127103</td>\n",
       "      <td>4.42</td>\n",
       "      <td>35.04</td>\n",
       "      <td>20.17</td>\n",
       "      <td>23.483476</td>\n",
       "      <td>0.28</td>\n",
       "      <td>14.40</td>\n",
       "      <td>9.69</td>\n",
       "      <td>119.0</td>\n",
       "      <td>Moderate</td>\n",
       "      <td>50.65</td>\n",
       "      <td>2020</td>\n",
       "      <td>1</td>\n",
       "      <td>7</td>\n",
       "    </tr>\n",
       "  </tbody>\n",
       "</table>\n",
       "<p>1334 rows × 15 columns</p>\n",
       "</div>"
      ],
      "text/plain": [
       "       PM2.5        PM10     NO    NO2    NOx        NH3     CO    SO2  \\\n",
       "28     83.13  118.127103   6.93  28.71  33.72  23.483476   6.93  49.52   \n",
       "29     79.84  118.127103  13.85  28.68  41.08  23.483476  13.85  48.49   \n",
       "30     94.52  118.127103  24.39  32.66  52.61  23.483476  24.39  67.39   \n",
       "31    135.99  118.127103  43.48  42.08  84.57  23.483476  43.48  75.23   \n",
       "32    178.33  118.127103  54.56  35.31  72.80  23.483476  54.56  55.04   \n",
       "...      ...         ...    ...    ...    ...        ...    ...    ...   \n",
       "2004   62.12  118.670000   9.18  56.35  19.86  23.483476   0.49  12.44   \n",
       "2005   31.57  118.127103   6.37  23.99  16.40  23.483476   0.52  11.01   \n",
       "2006   29.75  127.980000   9.06  25.15  18.92  23.483476   0.67  12.10   \n",
       "2007   40.02  121.100000   7.09  58.92  33.41  23.483476   0.73  16.39   \n",
       "2008   37.63  118.127103   4.42  35.04  20.17  23.483476   0.28  14.40   \n",
       "\n",
       "          O3    AQI    AQI_Bucket    BTX  Year  Day  Month  \n",
       "28     59.76  209.0          Poor   3.16  2015   29      1  \n",
       "29     97.07  328.0     Very Poor   4.85  2015   30      1  \n",
       "30    111.33  514.0        Severe   7.92  2015   31      1  \n",
       "31    102.70  782.0        Severe  26.31  2015    1      2  \n",
       "32    107.38  914.0        Severe  36.13  2015    2      2  \n",
       "...      ...    ...           ...    ...   ...  ...    ...  \n",
       "2004   68.05   92.0  Satisfactory  40.70  2020   27      6  \n",
       "2005   26.34   82.0  Satisfactory  52.29  2020   28      6  \n",
       "2006   34.99   74.0  Satisfactory  62.39  2020   29      6  \n",
       "2007   41.64   98.0  Satisfactory  46.66  2020   30      6  \n",
       "2008    9.69  119.0      Moderate  50.65  2020    1      7  \n",
       "\n",
       "[1334 rows x 15 columns]"
      ]
     },
     "execution_count": 63,
     "metadata": {},
     "output_type": "execute_result"
    }
   ],
   "source": [
    "df_ahm"
   ]
  },
  {
   "cell_type": "code",
   "execution_count": 64,
   "metadata": {
    "id": "h-t_xFJZrH0q"
   },
   "outputs": [],
   "source": [
    "#Training of the model\n",
    "\n",
    "from sklearn.model_selection import train_test_split\n",
    "x = df_ahm.drop(['AQI','AQI_Bucket'],axis=1)\n",
    "y = df_ahm[\"AQI\"]\n",
    "X_train, X_test, y_train, y_test = train_test_split(x, y, test_size = 0.3, random_state = 0)\n"
   ]
  },
  {
   "cell_type": "code",
   "execution_count": 65,
   "metadata": {
    "colab": {
     "base_uri": "https://localhost:8080/",
     "height": 419
    },
    "id": "3BL6DAcZlkvi",
    "outputId": "9ce0d490-4a63-425c-aa39-91ddedf50b5e"
   },
   "outputs": [
    {
     "data": {
      "text/html": [
       "<div>\n",
       "<style scoped>\n",
       "    .dataframe tbody tr th:only-of-type {\n",
       "        vertical-align: middle;\n",
       "    }\n",
       "\n",
       "    .dataframe tbody tr th {\n",
       "        vertical-align: top;\n",
       "    }\n",
       "\n",
       "    .dataframe thead th {\n",
       "        text-align: right;\n",
       "    }\n",
       "</style>\n",
       "<table border=\"1\" class=\"dataframe\">\n",
       "  <thead>\n",
       "    <tr style=\"text-align: right;\">\n",
       "      <th></th>\n",
       "      <th>PM2.5</th>\n",
       "      <th>PM10</th>\n",
       "      <th>NO</th>\n",
       "      <th>NO2</th>\n",
       "      <th>NOx</th>\n",
       "      <th>NH3</th>\n",
       "      <th>CO</th>\n",
       "      <th>SO2</th>\n",
       "      <th>O3</th>\n",
       "      <th>BTX</th>\n",
       "      <th>Year</th>\n",
       "      <th>Day</th>\n",
       "      <th>Month</th>\n",
       "    </tr>\n",
       "  </thead>\n",
       "  <tbody>\n",
       "    <tr>\n",
       "      <th>1290</th>\n",
       "      <td>40.97</td>\n",
       "      <td>118.127103</td>\n",
       "      <td>29.94</td>\n",
       "      <td>113.80</td>\n",
       "      <td>77.86</td>\n",
       "      <td>23.483476</td>\n",
       "      <td>29.94</td>\n",
       "      <td>22.82</td>\n",
       "      <td>3.69000</td>\n",
       "      <td>60.96</td>\n",
       "      <td>2018</td>\n",
       "      <td>14</td>\n",
       "      <td>7</td>\n",
       "    </tr>\n",
       "    <tr>\n",
       "      <th>1379</th>\n",
       "      <td>126.66</td>\n",
       "      <td>118.127103</td>\n",
       "      <td>33.97</td>\n",
       "      <td>112.69</td>\n",
       "      <td>45.73</td>\n",
       "      <td>23.483476</td>\n",
       "      <td>33.97</td>\n",
       "      <td>76.09</td>\n",
       "      <td>55.06000</td>\n",
       "      <td>32.29</td>\n",
       "      <td>2018</td>\n",
       "      <td>11</td>\n",
       "      <td>10</td>\n",
       "    </tr>\n",
       "    <tr>\n",
       "      <th>1398</th>\n",
       "      <td>88.69</td>\n",
       "      <td>118.127103</td>\n",
       "      <td>26.91</td>\n",
       "      <td>70.90</td>\n",
       "      <td>31.30</td>\n",
       "      <td>23.483476</td>\n",
       "      <td>26.91</td>\n",
       "      <td>68.94</td>\n",
       "      <td>53.16000</td>\n",
       "      <td>182.20</td>\n",
       "      <td>2018</td>\n",
       "      <td>30</td>\n",
       "      <td>10</td>\n",
       "    </tr>\n",
       "    <tr>\n",
       "      <th>1900</th>\n",
       "      <td>39.42</td>\n",
       "      <td>115.800000</td>\n",
       "      <td>5.11</td>\n",
       "      <td>31.33</td>\n",
       "      <td>19.10</td>\n",
       "      <td>23.483476</td>\n",
       "      <td>5.11</td>\n",
       "      <td>27.40</td>\n",
       "      <td>33.16000</td>\n",
       "      <td>50.54</td>\n",
       "      <td>2020</td>\n",
       "      <td>15</td>\n",
       "      <td>3</td>\n",
       "    </tr>\n",
       "    <tr>\n",
       "      <th>216</th>\n",
       "      <td>31.59</td>\n",
       "      <td>118.127103</td>\n",
       "      <td>6.99</td>\n",
       "      <td>20.42</td>\n",
       "      <td>27.41</td>\n",
       "      <td>23.483476</td>\n",
       "      <td>6.99</td>\n",
       "      <td>9.23</td>\n",
       "      <td>7.90000</td>\n",
       "      <td>3.13</td>\n",
       "      <td>2015</td>\n",
       "      <td>5</td>\n",
       "      <td>8</td>\n",
       "    </tr>\n",
       "    <tr>\n",
       "      <th>...</th>\n",
       "      <td>...</td>\n",
       "      <td>...</td>\n",
       "      <td>...</td>\n",
       "      <td>...</td>\n",
       "      <td>...</td>\n",
       "      <td>...</td>\n",
       "      <td>...</td>\n",
       "      <td>...</td>\n",
       "      <td>...</td>\n",
       "      <td>...</td>\n",
       "      <td>...</td>\n",
       "      <td>...</td>\n",
       "      <td>...</td>\n",
       "    </tr>\n",
       "    <tr>\n",
       "      <th>1418</th>\n",
       "      <td>98.60</td>\n",
       "      <td>118.127103</td>\n",
       "      <td>90.33</td>\n",
       "      <td>86.74</td>\n",
       "      <td>70.77</td>\n",
       "      <td>23.483476</td>\n",
       "      <td>90.33</td>\n",
       "      <td>85.76</td>\n",
       "      <td>52.53000</td>\n",
       "      <td>42.98</td>\n",
       "      <td>2018</td>\n",
       "      <td>19</td>\n",
       "      <td>11</td>\n",
       "    </tr>\n",
       "    <tr>\n",
       "      <th>1490</th>\n",
       "      <td>55.24</td>\n",
       "      <td>118.127103</td>\n",
       "      <td>34.37</td>\n",
       "      <td>83.79</td>\n",
       "      <td>39.08</td>\n",
       "      <td>23.483476</td>\n",
       "      <td>34.37</td>\n",
       "      <td>78.40</td>\n",
       "      <td>40.04000</td>\n",
       "      <td>43.25</td>\n",
       "      <td>2019</td>\n",
       "      <td>30</td>\n",
       "      <td>1</td>\n",
       "    </tr>\n",
       "    <tr>\n",
       "      <th>1888</th>\n",
       "      <td>77.58</td>\n",
       "      <td>155.650000</td>\n",
       "      <td>21.26</td>\n",
       "      <td>60.32</td>\n",
       "      <td>45.29</td>\n",
       "      <td>23.483476</td>\n",
       "      <td>21.26</td>\n",
       "      <td>119.95</td>\n",
       "      <td>39.83000</td>\n",
       "      <td>50.54</td>\n",
       "      <td>2020</td>\n",
       "      <td>3</td>\n",
       "      <td>3</td>\n",
       "    </tr>\n",
       "    <tr>\n",
       "      <th>1209</th>\n",
       "      <td>59.66</td>\n",
       "      <td>118.127103</td>\n",
       "      <td>47.44</td>\n",
       "      <td>77.68</td>\n",
       "      <td>77.30</td>\n",
       "      <td>23.483476</td>\n",
       "      <td>47.44</td>\n",
       "      <td>26.01</td>\n",
       "      <td>63.51000</td>\n",
       "      <td>83.80</td>\n",
       "      <td>2018</td>\n",
       "      <td>24</td>\n",
       "      <td>4</td>\n",
       "    </tr>\n",
       "    <tr>\n",
       "      <th>1336</th>\n",
       "      <td>51.03</td>\n",
       "      <td>118.127103</td>\n",
       "      <td>26.37</td>\n",
       "      <td>63.05</td>\n",
       "      <td>50.44</td>\n",
       "      <td>23.483476</td>\n",
       "      <td>26.37</td>\n",
       "      <td>49.27</td>\n",
       "      <td>34.49143</td>\n",
       "      <td>33.63</td>\n",
       "      <td>2018</td>\n",
       "      <td>29</td>\n",
       "      <td>8</td>\n",
       "    </tr>\n",
       "  </tbody>\n",
       "</table>\n",
       "<p>933 rows × 13 columns</p>\n",
       "</div>"
      ],
      "text/plain": [
       "       PM2.5        PM10     NO     NO2    NOx        NH3     CO     SO2  \\\n",
       "1290   40.97  118.127103  29.94  113.80  77.86  23.483476  29.94   22.82   \n",
       "1379  126.66  118.127103  33.97  112.69  45.73  23.483476  33.97   76.09   \n",
       "1398   88.69  118.127103  26.91   70.90  31.30  23.483476  26.91   68.94   \n",
       "1900   39.42  115.800000   5.11   31.33  19.10  23.483476   5.11   27.40   \n",
       "216    31.59  118.127103   6.99   20.42  27.41  23.483476   6.99    9.23   \n",
       "...      ...         ...    ...     ...    ...        ...    ...     ...   \n",
       "1418   98.60  118.127103  90.33   86.74  70.77  23.483476  90.33   85.76   \n",
       "1490   55.24  118.127103  34.37   83.79  39.08  23.483476  34.37   78.40   \n",
       "1888   77.58  155.650000  21.26   60.32  45.29  23.483476  21.26  119.95   \n",
       "1209   59.66  118.127103  47.44   77.68  77.30  23.483476  47.44   26.01   \n",
       "1336   51.03  118.127103  26.37   63.05  50.44  23.483476  26.37   49.27   \n",
       "\n",
       "            O3     BTX  Year  Day  Month  \n",
       "1290   3.69000   60.96  2018   14      7  \n",
       "1379  55.06000   32.29  2018   11     10  \n",
       "1398  53.16000  182.20  2018   30     10  \n",
       "1900  33.16000   50.54  2020   15      3  \n",
       "216    7.90000    3.13  2015    5      8  \n",
       "...        ...     ...   ...  ...    ...  \n",
       "1418  52.53000   42.98  2018   19     11  \n",
       "1490  40.04000   43.25  2019   30      1  \n",
       "1888  39.83000   50.54  2020    3      3  \n",
       "1209  63.51000   83.80  2018   24      4  \n",
       "1336  34.49143   33.63  2018   29      8  \n",
       "\n",
       "[933 rows x 13 columns]"
      ]
     },
     "execution_count": 65,
     "metadata": {},
     "output_type": "execute_result"
    }
   ],
   "source": [
    "X_train"
   ]
  },
  {
   "cell_type": "code",
   "execution_count": 66,
   "metadata": {
    "colab": {
     "base_uri": "https://localhost:8080/",
     "height": 419
    },
    "id": "kosDrGDHjt8N",
    "outputId": "14fba490-54fb-4971-8e53-16cbb7a1e7d4"
   },
   "outputs": [
    {
     "data": {
      "text/html": [
       "<div>\n",
       "<style scoped>\n",
       "    .dataframe tbody tr th:only-of-type {\n",
       "        vertical-align: middle;\n",
       "    }\n",
       "\n",
       "    .dataframe tbody tr th {\n",
       "        vertical-align: top;\n",
       "    }\n",
       "\n",
       "    .dataframe thead th {\n",
       "        text-align: right;\n",
       "    }\n",
       "</style>\n",
       "<table border=\"1\" class=\"dataframe\">\n",
       "  <thead>\n",
       "    <tr style=\"text-align: right;\">\n",
       "      <th></th>\n",
       "      <th>PM2.5</th>\n",
       "      <th>PM10</th>\n",
       "      <th>NO</th>\n",
       "      <th>NO2</th>\n",
       "      <th>NOx</th>\n",
       "      <th>NH3</th>\n",
       "      <th>CO</th>\n",
       "      <th>SO2</th>\n",
       "      <th>O3</th>\n",
       "      <th>BTX</th>\n",
       "      <th>Year</th>\n",
       "      <th>Day</th>\n",
       "      <th>Month</th>\n",
       "    </tr>\n",
       "  </thead>\n",
       "  <tbody>\n",
       "    <tr>\n",
       "      <th>1680</th>\n",
       "      <td>57.61</td>\n",
       "      <td>195.840000</td>\n",
       "      <td>35.46</td>\n",
       "      <td>47.73</td>\n",
       "      <td>62.52</td>\n",
       "      <td>23.483476</td>\n",
       "      <td>35.46</td>\n",
       "      <td>39.760000</td>\n",
       "      <td>37.96</td>\n",
       "      <td>34.35</td>\n",
       "      <td>2019</td>\n",
       "      <td>8</td>\n",
       "      <td>8</td>\n",
       "    </tr>\n",
       "    <tr>\n",
       "      <th>1092</th>\n",
       "      <td>104.13</td>\n",
       "      <td>118.127103</td>\n",
       "      <td>43.47</td>\n",
       "      <td>101.35</td>\n",
       "      <td>81.88</td>\n",
       "      <td>23.483476</td>\n",
       "      <td>43.47</td>\n",
       "      <td>113.390000</td>\n",
       "      <td>58.08</td>\n",
       "      <td>141.10</td>\n",
       "      <td>2017</td>\n",
       "      <td>28</td>\n",
       "      <td>12</td>\n",
       "    </tr>\n",
       "    <tr>\n",
       "      <th>1105</th>\n",
       "      <td>74.57</td>\n",
       "      <td>118.127103</td>\n",
       "      <td>16.31</td>\n",
       "      <td>133.53</td>\n",
       "      <td>77.31</td>\n",
       "      <td>23.483476</td>\n",
       "      <td>16.31</td>\n",
       "      <td>103.200000</td>\n",
       "      <td>55.23</td>\n",
       "      <td>75.98</td>\n",
       "      <td>2018</td>\n",
       "      <td>10</td>\n",
       "      <td>1</td>\n",
       "    </tr>\n",
       "    <tr>\n",
       "      <th>296</th>\n",
       "      <td>100.17</td>\n",
       "      <td>118.127103</td>\n",
       "      <td>32.27</td>\n",
       "      <td>34.16</td>\n",
       "      <td>66.43</td>\n",
       "      <td>23.483476</td>\n",
       "      <td>32.27</td>\n",
       "      <td>27.730000</td>\n",
       "      <td>23.95</td>\n",
       "      <td>25.62</td>\n",
       "      <td>2015</td>\n",
       "      <td>24</td>\n",
       "      <td>10</td>\n",
       "    </tr>\n",
       "    <tr>\n",
       "      <th>1643</th>\n",
       "      <td>44.75</td>\n",
       "      <td>114.840000</td>\n",
       "      <td>24.72</td>\n",
       "      <td>119.51</td>\n",
       "      <td>88.78</td>\n",
       "      <td>23.483476</td>\n",
       "      <td>24.72</td>\n",
       "      <td>48.210000</td>\n",
       "      <td>58.82</td>\n",
       "      <td>87.82</td>\n",
       "      <td>2019</td>\n",
       "      <td>2</td>\n",
       "      <td>7</td>\n",
       "    </tr>\n",
       "    <tr>\n",
       "      <th>...</th>\n",
       "      <td>...</td>\n",
       "      <td>...</td>\n",
       "      <td>...</td>\n",
       "      <td>...</td>\n",
       "      <td>...</td>\n",
       "      <td>...</td>\n",
       "      <td>...</td>\n",
       "      <td>...</td>\n",
       "      <td>...</td>\n",
       "      <td>...</td>\n",
       "      <td>...</td>\n",
       "      <td>...</td>\n",
       "      <td>...</td>\n",
       "    </tr>\n",
       "    <tr>\n",
       "      <th>1397</th>\n",
       "      <td>82.88</td>\n",
       "      <td>118.127103</td>\n",
       "      <td>18.59</td>\n",
       "      <td>73.74</td>\n",
       "      <td>27.90</td>\n",
       "      <td>23.483476</td>\n",
       "      <td>18.59</td>\n",
       "      <td>56.890000</td>\n",
       "      <td>47.67</td>\n",
       "      <td>68.24</td>\n",
       "      <td>2018</td>\n",
       "      <td>29</td>\n",
       "      <td>10</td>\n",
       "    </tr>\n",
       "    <tr>\n",
       "      <th>224</th>\n",
       "      <td>44.56</td>\n",
       "      <td>118.127103</td>\n",
       "      <td>7.49</td>\n",
       "      <td>20.06</td>\n",
       "      <td>27.55</td>\n",
       "      <td>23.483476</td>\n",
       "      <td>7.49</td>\n",
       "      <td>11.230000</td>\n",
       "      <td>22.77</td>\n",
       "      <td>5.18</td>\n",
       "      <td>2015</td>\n",
       "      <td>13</td>\n",
       "      <td>8</td>\n",
       "    </tr>\n",
       "    <tr>\n",
       "      <th>1967</th>\n",
       "      <td>33.35</td>\n",
       "      <td>84.990000</td>\n",
       "      <td>2.64</td>\n",
       "      <td>25.02</td>\n",
       "      <td>14.15</td>\n",
       "      <td>23.483476</td>\n",
       "      <td>0.56</td>\n",
       "      <td>14.531977</td>\n",
       "      <td>62.40</td>\n",
       "      <td>29.87</td>\n",
       "      <td>2020</td>\n",
       "      <td>21</td>\n",
       "      <td>5</td>\n",
       "    </tr>\n",
       "    <tr>\n",
       "      <th>1423</th>\n",
       "      <td>86.43</td>\n",
       "      <td>118.127103</td>\n",
       "      <td>34.52</td>\n",
       "      <td>82.76</td>\n",
       "      <td>38.92</td>\n",
       "      <td>23.483476</td>\n",
       "      <td>34.52</td>\n",
       "      <td>62.480000</td>\n",
       "      <td>47.34</td>\n",
       "      <td>42.98</td>\n",
       "      <td>2018</td>\n",
       "      <td>24</td>\n",
       "      <td>11</td>\n",
       "    </tr>\n",
       "    <tr>\n",
       "      <th>1951</th>\n",
       "      <td>33.47</td>\n",
       "      <td>134.830000</td>\n",
       "      <td>3.60</td>\n",
       "      <td>29.05</td>\n",
       "      <td>13.84</td>\n",
       "      <td>23.483476</td>\n",
       "      <td>0.54</td>\n",
       "      <td>2.420000</td>\n",
       "      <td>54.80</td>\n",
       "      <td>32.07</td>\n",
       "      <td>2020</td>\n",
       "      <td>5</td>\n",
       "      <td>5</td>\n",
       "    </tr>\n",
       "  </tbody>\n",
       "</table>\n",
       "<p>401 rows × 13 columns</p>\n",
       "</div>"
      ],
      "text/plain": [
       "       PM2.5        PM10     NO     NO2    NOx        NH3     CO         SO2  \\\n",
       "1680   57.61  195.840000  35.46   47.73  62.52  23.483476  35.46   39.760000   \n",
       "1092  104.13  118.127103  43.47  101.35  81.88  23.483476  43.47  113.390000   \n",
       "1105   74.57  118.127103  16.31  133.53  77.31  23.483476  16.31  103.200000   \n",
       "296   100.17  118.127103  32.27   34.16  66.43  23.483476  32.27   27.730000   \n",
       "1643   44.75  114.840000  24.72  119.51  88.78  23.483476  24.72   48.210000   \n",
       "...      ...         ...    ...     ...    ...        ...    ...         ...   \n",
       "1397   82.88  118.127103  18.59   73.74  27.90  23.483476  18.59   56.890000   \n",
       "224    44.56  118.127103   7.49   20.06  27.55  23.483476   7.49   11.230000   \n",
       "1967   33.35   84.990000   2.64   25.02  14.15  23.483476   0.56   14.531977   \n",
       "1423   86.43  118.127103  34.52   82.76  38.92  23.483476  34.52   62.480000   \n",
       "1951   33.47  134.830000   3.60   29.05  13.84  23.483476   0.54    2.420000   \n",
       "\n",
       "         O3     BTX  Year  Day  Month  \n",
       "1680  37.96   34.35  2019    8      8  \n",
       "1092  58.08  141.10  2017   28     12  \n",
       "1105  55.23   75.98  2018   10      1  \n",
       "296   23.95   25.62  2015   24     10  \n",
       "1643  58.82   87.82  2019    2      7  \n",
       "...     ...     ...   ...  ...    ...  \n",
       "1397  47.67   68.24  2018   29     10  \n",
       "224   22.77    5.18  2015   13      8  \n",
       "1967  62.40   29.87  2020   21      5  \n",
       "1423  47.34   42.98  2018   24     11  \n",
       "1951  54.80   32.07  2020    5      5  \n",
       "\n",
       "[401 rows x 13 columns]"
      ]
     },
     "execution_count": 66,
     "metadata": {},
     "output_type": "execute_result"
    }
   ],
   "source": [
    "X_test"
   ]
  },
  {
   "cell_type": "markdown",
   "metadata": {
    "id": "NG4uTwnKtX7z"
   },
   "source": [
    "Applying random forest regressor\n"
   ]
  },
  {
   "cell_type": "code",
   "execution_count": 67,
   "metadata": {
    "colab": {
     "base_uri": "https://localhost:8080/"
    },
    "id": "PFWdFHcFtRDE",
    "outputId": "dc5c634f-9ae6-461a-dd6e-f556b034e134"
   },
   "outputs": [
    {
     "name": "stdout",
     "output_type": "stream",
     "text": [
      "88.27608478802995\n",
      "0.06978531030241845\n",
      "0.7571520486445575\n"
     ]
    }
   ],
   "source": [
    "from sklearn.metrics import mean_absolute_error,mean_squared_log_error\n",
    "from sklearn.ensemble import RandomForestRegressor\n",
    "model1 = RandomForestRegressor()\n",
    "model1.fit(X_train,y_train)\n",
    "y_pred = model1.predict(X_test)\n",
    "\n",
    "print(mean_absolute_error(y_pred,y_test))\n",
    "print(mean_squared_log_error(y_pred,y_test))\n",
    "print(model1.score(X_test,y_test))"
   ]
  },
  {
   "cell_type": "markdown",
   "metadata": {
    "id": "64BJ--unwcE6"
   },
   "source": [
    "Applying Gradient boost regressor"
   ]
  },
  {
   "cell_type": "code",
   "execution_count": 68,
   "metadata": {
    "colab": {
     "base_uri": "https://localhost:8080/"
    },
    "id": "PqMWHFXheBll",
    "outputId": "46f90e03-4f47-4d9f-fbc6-e53d3f131c52"
   },
   "outputs": [
    {
     "name": "stdout",
     "output_type": "stream",
     "text": [
      "86.14630896745344\n",
      "0.06881409549535039\n",
      "0.7614023067837734\n"
     ]
    }
   ],
   "source": [
    "from sklearn.ensemble import GradientBoostingRegressor\n",
    "model2 = GradientBoostingRegressor()\n",
    "model2.fit(X_train,y_train)\n",
    "y_pred2 = model2.predict(X_test)\n",
    "\n",
    "print(mean_absolute_error(y_pred2,y_test))\n",
    "print(mean_squared_log_error(y_pred2,y_test))\n",
    "print(model2.score(X_test,y_test))"
   ]
  },
  {
   "cell_type": "markdown",
   "metadata": {
    "id": "Nhds6sXlxA7X"
   },
   "source": [
    "Applying extra trees regressor"
   ]
  },
  {
   "cell_type": "code",
   "execution_count": 69,
   "metadata": {
    "colab": {
     "base_uri": "https://localhost:8080/"
    },
    "id": "VSDmfrjGxE7W",
    "outputId": "2cb86c0c-67bb-4f0b-a407-2b9c5a7f3a3a"
   },
   "outputs": [
    {
     "name": "stdout",
     "output_type": "stream",
     "text": [
      "87.85510030647562\n",
      "0.07062518899150629\n"
     ]
    },
    {
     "data": {
      "text/plain": [
       "0.7543140174940817"
      ]
     },
     "execution_count": 69,
     "metadata": {},
     "output_type": "execute_result"
    }
   ],
   "source": [
    "from sklearn.ensemble import ExtraTreesRegressor\n",
    "model3=ExtraTreesRegressor(min_samples_leaf= 6, min_samples_split= 8, n_estimators= 100)\n",
    "model3.fit(X_train,y_train)\n",
    "y_pred3 = model3.predict(X_test)\n",
    "\n",
    "print(mean_absolute_error(y_pred3,y_test))\n",
    "print(mean_squared_log_error(y_pred3,y_test))\n",
    "model3.score(X_test,y_test)"
   ]
  },
  {
   "cell_type": "code",
   "execution_count": 70,
   "metadata": {},
   "outputs": [
    {
     "data": {
      "text/plain": [
       "0.8878136148050214"
      ]
     },
     "execution_count": 70,
     "metadata": {},
     "output_type": "execute_result"
    }
   ],
   "source": [
    "model3.score(X_train, y_train)"
   ]
  },
  {
   "cell_type": "code",
   "execution_count": 71,
   "metadata": {},
   "outputs": [],
   "source": [
    "model_acc = pd.DataFrame({\"Model\":[\"Random forest regressor\", \"Gradient boost regressor\", \"ExtraTreesRegressor\"],\n",
    "                 \"Training set score\": [model1.score(X_train,y_train),model2.score(X_train,y_train), model3.score(X_train,y_train)],\n",
    "                 \"Test set score\":[model1.score(X_test,y_test), model2.score(X_test,y_test), model3.score(X_test,y_test)],\n",
    "                 \"Mean Squared log error\": [mean_squared_log_error(y_pred,y_test), mean_squared_log_error(y_pred2,y_test), mean_squared_log_error(y_pred3,y_test)],\n",
    "                \"Mean_absolute_error\": [mean_absolute_error(y_pred,y_test),mean_absolute_error(y_pred2,y_test), mean_absolute_error(y_pred3, y_test)]})\n",
    "    "
   ]
  },
  {
   "cell_type": "code",
   "execution_count": 72,
   "metadata": {},
   "outputs": [
    {
     "data": {
      "text/html": [
       "<div>\n",
       "<style scoped>\n",
       "    .dataframe tbody tr th:only-of-type {\n",
       "        vertical-align: middle;\n",
       "    }\n",
       "\n",
       "    .dataframe tbody tr th {\n",
       "        vertical-align: top;\n",
       "    }\n",
       "\n",
       "    .dataframe thead th {\n",
       "        text-align: right;\n",
       "    }\n",
       "</style>\n",
       "<table border=\"1\" class=\"dataframe\">\n",
       "  <thead>\n",
       "    <tr style=\"text-align: right;\">\n",
       "      <th></th>\n",
       "      <th>Model</th>\n",
       "      <th>Training set score</th>\n",
       "      <th>Test set score</th>\n",
       "      <th>Mean Squared log error</th>\n",
       "      <th>Mean_absolute_error</th>\n",
       "    </tr>\n",
       "  </thead>\n",
       "  <tbody>\n",
       "    <tr>\n",
       "      <th>0</th>\n",
       "      <td>Random forest regressor</td>\n",
       "      <td>0.973375</td>\n",
       "      <td>0.757152</td>\n",
       "      <td>0.069785</td>\n",
       "      <td>88.276085</td>\n",
       "    </tr>\n",
       "    <tr>\n",
       "      <th>1</th>\n",
       "      <td>Gradient boost regressor</td>\n",
       "      <td>0.939676</td>\n",
       "      <td>0.761402</td>\n",
       "      <td>0.068814</td>\n",
       "      <td>86.146309</td>\n",
       "    </tr>\n",
       "    <tr>\n",
       "      <th>2</th>\n",
       "      <td>ExtraTreesRegressor</td>\n",
       "      <td>0.887814</td>\n",
       "      <td>0.754314</td>\n",
       "      <td>0.070625</td>\n",
       "      <td>87.855100</td>\n",
       "    </tr>\n",
       "  </tbody>\n",
       "</table>\n",
       "</div>"
      ],
      "text/plain": [
       "                      Model  Training set score  Test set score  \\\n",
       "0   Random forest regressor            0.973375        0.757152   \n",
       "1  Gradient boost regressor            0.939676        0.761402   \n",
       "2       ExtraTreesRegressor            0.887814        0.754314   \n",
       "\n",
       "   Mean Squared log error  Mean_absolute_error  \n",
       "0                0.069785            88.276085  \n",
       "1                0.068814            86.146309  \n",
       "2                0.070625            87.855100  "
      ]
     },
     "execution_count": 72,
     "metadata": {},
     "output_type": "execute_result"
    }
   ],
   "source": [
    "model_acc"
   ]
  },
  {
   "cell_type": "code",
   "execution_count": null,
   "metadata": {},
   "outputs": [],
   "source": []
  }
 ],
 "metadata": {
  "colab": {
   "collapsed_sections": [],
   "name": "Envirronmental Pollution.ipynb",
   "provenance": []
  },
  "kernelspec": {
   "display_name": "Python 3",
   "language": "python",
   "name": "python3"
  },
  "language_info": {
   "codemirror_mode": {
    "name": "ipython",
    "version": 3
   },
   "file_extension": ".py",
   "mimetype": "text/x-python",
   "name": "python",
   "nbconvert_exporter": "python",
   "pygments_lexer": "ipython3",
   "version": "3.8.6"
  }
 },
 "nbformat": 4,
 "nbformat_minor": 1
}
